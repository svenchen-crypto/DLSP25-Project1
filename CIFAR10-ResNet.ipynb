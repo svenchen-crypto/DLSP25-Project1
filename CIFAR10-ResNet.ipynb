{
 "cells": [
  {
   "cell_type": "markdown",
   "metadata": {
    "id": "-LlkZoo1Za5t"
   },
   "source": [
    "Setup Kaggle"
   ]
  },
  {
   "cell_type": "code",
   "execution_count": null,
   "metadata": {
    "colab": {
     "base_uri": "https://localhost:8080/",
     "height": 92
    },
    "id": "PUTKP1WcZX23",
    "outputId": "3893e191-ca18-4989-b56e-1de24d657815"
   },
   "outputs": [
    {
     "data": {
      "text/html": [
       "\n",
       "     <input type=\"file\" id=\"files-baa225a4-d370-4d83-a8a7-8fbd5c65fe4a\" name=\"files[]\" multiple disabled\n",
       "        style=\"border:none\" />\n",
       "     <output id=\"result-baa225a4-d370-4d83-a8a7-8fbd5c65fe4a\">\n",
       "      Upload widget is only available when the cell has been executed in the\n",
       "      current browser session. Please rerun this cell to enable.\n",
       "      </output>\n",
       "      <script>// Copyright 2017 Google LLC\n",
       "//\n",
       "// Licensed under the Apache License, Version 2.0 (the \"License\");\n",
       "// you may not use this file except in compliance with the License.\n",
       "// You may obtain a copy of the License at\n",
       "//\n",
       "//      http://www.apache.org/licenses/LICENSE-2.0\n",
       "//\n",
       "// Unless required by applicable law or agreed to in writing, software\n",
       "// distributed under the License is distributed on an \"AS IS\" BASIS,\n",
       "// WITHOUT WARRANTIES OR CONDITIONS OF ANY KIND, either express or implied.\n",
       "// See the License for the specific language governing permissions and\n",
       "// limitations under the License.\n",
       "\n",
       "/**\n",
       " * @fileoverview Helpers for google.colab Python module.\n",
       " */\n",
       "(function(scope) {\n",
       "function span(text, styleAttributes = {}) {\n",
       "  const element = document.createElement('span');\n",
       "  element.textContent = text;\n",
       "  for (const key of Object.keys(styleAttributes)) {\n",
       "    element.style[key] = styleAttributes[key];\n",
       "  }\n",
       "  return element;\n",
       "}\n",
       "\n",
       "// Max number of bytes which will be uploaded at a time.\n",
       "const MAX_PAYLOAD_SIZE = 100 * 1024;\n",
       "\n",
       "function _uploadFiles(inputId, outputId) {\n",
       "  const steps = uploadFilesStep(inputId, outputId);\n",
       "  const outputElement = document.getElementById(outputId);\n",
       "  // Cache steps on the outputElement to make it available for the next call\n",
       "  // to uploadFilesContinue from Python.\n",
       "  outputElement.steps = steps;\n",
       "\n",
       "  return _uploadFilesContinue(outputId);\n",
       "}\n",
       "\n",
       "// This is roughly an async generator (not supported in the browser yet),\n",
       "// where there are multiple asynchronous steps and the Python side is going\n",
       "// to poll for completion of each step.\n",
       "// This uses a Promise to block the python side on completion of each step,\n",
       "// then passes the result of the previous step as the input to the next step.\n",
       "function _uploadFilesContinue(outputId) {\n",
       "  const outputElement = document.getElementById(outputId);\n",
       "  const steps = outputElement.steps;\n",
       "\n",
       "  const next = steps.next(outputElement.lastPromiseValue);\n",
       "  return Promise.resolve(next.value.promise).then((value) => {\n",
       "    // Cache the last promise value to make it available to the next\n",
       "    // step of the generator.\n",
       "    outputElement.lastPromiseValue = value;\n",
       "    return next.value.response;\n",
       "  });\n",
       "}\n",
       "\n",
       "/**\n",
       " * Generator function which is called between each async step of the upload\n",
       " * process.\n",
       " * @param {string} inputId Element ID of the input file picker element.\n",
       " * @param {string} outputId Element ID of the output display.\n",
       " * @return {!Iterable<!Object>} Iterable of next steps.\n",
       " */\n",
       "function* uploadFilesStep(inputId, outputId) {\n",
       "  const inputElement = document.getElementById(inputId);\n",
       "  inputElement.disabled = false;\n",
       "\n",
       "  const outputElement = document.getElementById(outputId);\n",
       "  outputElement.innerHTML = '';\n",
       "\n",
       "  const pickedPromise = new Promise((resolve) => {\n",
       "    inputElement.addEventListener('change', (e) => {\n",
       "      resolve(e.target.files);\n",
       "    });\n",
       "  });\n",
       "\n",
       "  const cancel = document.createElement('button');\n",
       "  inputElement.parentElement.appendChild(cancel);\n",
       "  cancel.textContent = 'Cancel upload';\n",
       "  const cancelPromise = new Promise((resolve) => {\n",
       "    cancel.onclick = () => {\n",
       "      resolve(null);\n",
       "    };\n",
       "  });\n",
       "\n",
       "  // Wait for the user to pick the files.\n",
       "  const files = yield {\n",
       "    promise: Promise.race([pickedPromise, cancelPromise]),\n",
       "    response: {\n",
       "      action: 'starting',\n",
       "    }\n",
       "  };\n",
       "\n",
       "  cancel.remove();\n",
       "\n",
       "  // Disable the input element since further picks are not allowed.\n",
       "  inputElement.disabled = true;\n",
       "\n",
       "  if (!files) {\n",
       "    return {\n",
       "      response: {\n",
       "        action: 'complete',\n",
       "      }\n",
       "    };\n",
       "  }\n",
       "\n",
       "  for (const file of files) {\n",
       "    const li = document.createElement('li');\n",
       "    li.append(span(file.name, {fontWeight: 'bold'}));\n",
       "    li.append(span(\n",
       "        `(${file.type || 'n/a'}) - ${file.size} bytes, ` +\n",
       "        `last modified: ${\n",
       "            file.lastModifiedDate ? file.lastModifiedDate.toLocaleDateString() :\n",
       "                                    'n/a'} - `));\n",
       "    const percent = span('0% done');\n",
       "    li.appendChild(percent);\n",
       "\n",
       "    outputElement.appendChild(li);\n",
       "\n",
       "    const fileDataPromise = new Promise((resolve) => {\n",
       "      const reader = new FileReader();\n",
       "      reader.onload = (e) => {\n",
       "        resolve(e.target.result);\n",
       "      };\n",
       "      reader.readAsArrayBuffer(file);\n",
       "    });\n",
       "    // Wait for the data to be ready.\n",
       "    let fileData = yield {\n",
       "      promise: fileDataPromise,\n",
       "      response: {\n",
       "        action: 'continue',\n",
       "      }\n",
       "    };\n",
       "\n",
       "    // Use a chunked sending to avoid message size limits. See b/62115660.\n",
       "    let position = 0;\n",
       "    do {\n",
       "      const length = Math.min(fileData.byteLength - position, MAX_PAYLOAD_SIZE);\n",
       "      const chunk = new Uint8Array(fileData, position, length);\n",
       "      position += length;\n",
       "\n",
       "      const base64 = btoa(String.fromCharCode.apply(null, chunk));\n",
       "      yield {\n",
       "        response: {\n",
       "          action: 'append',\n",
       "          file: file.name,\n",
       "          data: base64,\n",
       "        },\n",
       "      };\n",
       "\n",
       "      let percentDone = fileData.byteLength === 0 ?\n",
       "          100 :\n",
       "          Math.round((position / fileData.byteLength) * 100);\n",
       "      percent.textContent = `${percentDone}% done`;\n",
       "\n",
       "    } while (position < fileData.byteLength);\n",
       "  }\n",
       "\n",
       "  // All done.\n",
       "  yield {\n",
       "    response: {\n",
       "      action: 'complete',\n",
       "    }\n",
       "  };\n",
       "}\n",
       "\n",
       "scope.google = scope.google || {};\n",
       "scope.google.colab = scope.google.colab || {};\n",
       "scope.google.colab._files = {\n",
       "  _uploadFiles,\n",
       "  _uploadFilesContinue,\n",
       "};\n",
       "})(self);\n",
       "</script> "
      ],
      "text/plain": [
       "<IPython.core.display.HTML object>"
      ]
     },
     "metadata": {},
     "output_type": "display_data"
    },
    {
     "name": "stdout",
     "output_type": "stream",
     "text": [
      "Saving kaggle.json to kaggle.json\n"
     ]
    },
    {
     "data": {
      "text/plain": [
       "{'kaggle.json': b'{\"username\":\"svenchnyu\",\"key\":\"e9899f4c220c20289a004d1b8b2f5896\"}'}"
      ]
     },
     "execution_count": 1,
     "metadata": {},
     "output_type": "execute_result"
    }
   ],
   "source": [
    "from google.colab import files\n",
    "files.upload()"
   ]
  },
  {
   "cell_type": "markdown",
   "metadata": {
    "id": "4LNEtnIiZWkY"
   },
   "source": [
    "Create .kaggle directory move the uploaded file to it"
   ]
  },
  {
   "cell_type": "code",
   "execution_count": null,
   "metadata": {
    "colab": {
     "base_uri": "https://localhost:8080/",
     "height": 35
    },
    "id": "weoPyOluZWMU",
    "outputId": "f6047d1f-10f3-4c14-cfbf-a1e775db9121"
   },
   "outputs": [
    {
     "data": {
      "application/vnd.google.colaboratory.intrinsic+json": {
       "type": "string"
      },
      "text/plain": [
       "'/root/.kaggle/kaggle.json'"
      ]
     },
     "execution_count": 3,
     "metadata": {},
     "output_type": "execute_result"
    }
   ],
   "source": [
    "import shutil\n",
    "import os\n",
    "\n",
    "# Create .kaggle directory if it doesn't exist\n",
    "os.makedirs('/root/.kaggle', exist_ok=True)\n",
    "\n",
    "# Move kaggle.json to the correct location\n",
    "shutil.move('kaggle.json', '/root/.kaggle/kaggle.json')"
   ]
  },
  {
   "cell_type": "markdown",
   "metadata": {
    "id": "P_u4gRZCdZNE"
   },
   "source": [
    "Configure the permission"
   ]
  },
  {
   "cell_type": "code",
   "execution_count": null,
   "metadata": {
    "id": "WWzv7jOwddlN"
   },
   "outputs": [],
   "source": [
    "!chmod 600 /root/.kaggle/kaggle.json"
   ]
  },
  {
   "cell_type": "markdown",
   "metadata": {
    "id": "eBOs9M5vdgBS"
   },
   "source": [
    "Verify kaggle configuration"
   ]
  },
  {
   "cell_type": "code",
   "execution_count": null,
   "metadata": {
    "colab": {
     "base_uri": "https://localhost:8080/"
    },
    "id": "CD1hyUAXdfsF",
    "outputId": "8bf490df-a346-4213-c3d7-ee3c2d7a6a9a"
   },
   "outputs": [
    {
     "name": "stdout",
     "output_type": "stream",
     "text": [
      "ref                                                               title                                              size  lastUpdated          downloadCount  voteCount  usabilityRating  \n",
      "----------------------------------------------------------------  ------------------------------------------------  -----  -------------------  -------------  ---------  ---------------  \n",
      "abdulmalik1518/mobiles-dataset-2025                               Mobiles Dataset (2025)                             20KB  2025-02-18 06:50:24           9817        178  1.0              \n",
      "atharvasoundankar/chocolate-sales                                 Chocolate Sales Data 📊🍫                            63KB  2025-03-07 05:44:03           2822         36  1.0              \n",
      "ignacioazua/life-expectancy                                       Life Expectancy                                     3KB  2025-03-04 06:16:35           1236         28  1.0              \n",
      "mahmoudelhemaly/students-grading-dataset                          Student Performance & Behavior Dataset            508KB  2025-02-17 17:38:46           7233        119  1.0              \n",
      "asinow/car-price-dataset                                          Car Price Dataset                                 135KB  2025-01-26 19:53:28          27001        417  1.0              \n",
      "asinow/diabetes-dataset                                           Diabetes Dataset                                  224KB  2025-02-20 08:38:56           5333         82  1.0              \n",
      "ankushpanday2/oral-cancer-prediction-dataset                      Oral Cancer Prediction Dataset                      2MB  2025-03-06 14:13:24            648         24  1.0              \n",
      "willianoliveiragibin/odi-cricket-data                             ODI Cricket Data                                   55KB  2025-02-23 22:17:09           1320         24  1.0              \n",
      "smayanj/netflix-users-database                                    Netflix Users Database                            354KB  2025-03-08 12:08:09            433         30  1.0              \n",
      "vinothkannaece/sales-dataset                                      sales dataset                                      27KB  2025-02-18 05:13:42           5906         80  1.0              \n",
      "smayanj/e-commerce-transactions-dataset                           E-Commerce Transactions Dataset                   749KB  2025-03-08 12:20:45            536         37  1.0              \n",
      "logiccraftbyhimanshi/e-commerce-analytics-swiggy-zomato-blinkit   E-Commerce Analytics: Swiggy, Zomato, Blinkit       1MB  2025-02-26 16:50:07           1203         21  0.88235295       \n",
      "amrmaree/student-performance-prediction                           Student Performance Prediction                     11KB  2025-03-03 15:46:10           1344         26  0.9411765        \n",
      "anandshaw2001/video-game-sales                                    Video Game Sales                                  381KB  2025-02-23 05:16:04           1016         40  1.0              \n",
      "atharvasoundankar/futuristic-smart-city-citizen-activity-dataset  📊 Futuristic Smart City Citizen Activity Dataset   23KB  2025-03-06 04:58:22            591         30  1.0              \n",
      "adilshamim8/student-performance-and-learning-style                Student Performance & Learning Style              148KB  2025-02-12 06:12:07           3205         52  1.0              \n",
      "sujalsuthar/food-delivery-order-history-data                      Food Delivery Order History Data                    2MB  2025-02-14 02:52:38           1294         26  1.0              \n",
      "samikshadalvi/lungs-diseases-dataset                              Lungs Diseases Dataset                             40KB  2025-02-25 01:51:36           1820         38  1.0              \n",
      "ankushpanday2/colorectal-cancer-global-dataset-and-predictions    Colorectal Cancer Global Dataset & Predictions      4MB  2025-02-27 18:30:45           1261         30  1.0              \n",
      "samayashar/startup-growth-and-funding-trends                      Startup Growth & Funding Trends                    12KB  2025-02-25 18:00:32            605         23  1.0              \n"
     ]
    }
   ],
   "source": [
    "!kaggle datasets list"
   ]
  },
  {
   "cell_type": "markdown",
   "metadata": {
    "id": "ZCrDwqCodpO_"
   },
   "source": [
    "Download the dataset"
   ]
  },
  {
   "cell_type": "code",
   "execution_count": null,
   "metadata": {
    "colab": {
     "base_uri": "https://localhost:8080/"
    },
    "id": "7Zi3W5Cbdq_y",
    "outputId": "faf3fe84-56a1-4c6f-dbaa-6afc063edad1"
   },
   "outputs": [
    {
     "name": "stdout",
     "output_type": "stream",
     "text": [
      "Downloading deep-learning-spring-2025-project-1.zip to /content\n",
      " 97% 183M/189M [00:01<00:00, 167MB/s]\n",
      "100% 189M/189M [00:01<00:00, 158MB/s]\n"
     ]
    }
   ],
   "source": [
    "import kaggle\n",
    "!kaggle competitions download -c deep-learning-spring-2025-project-1"
   ]
  },
  {
   "cell_type": "markdown",
   "metadata": {
    "id": "0HuyhFjhedRe"
   },
   "source": [
    "Verify the download"
   ]
  },
  {
   "cell_type": "code",
   "execution_count": null,
   "metadata": {
    "colab": {
     "base_uri": "https://localhost:8080/"
    },
    "id": "PD2FUKPoefQx",
    "outputId": "59ed31ee-14a0-4fda-ed30-7486fd8211c2"
   },
   "outputs": [
    {
     "name": "stdout",
     "output_type": "stream",
     "text": [
      "['.config', 'deep-learning-spring-2025-project-1.zip', 'sample_data']\n"
     ]
    }
   ],
   "source": [
    "print(os.listdir('/content'))"
   ]
  },
  {
   "cell_type": "markdown",
   "metadata": {
    "id": "IKRmHE-ueLAB"
   },
   "source": [
    "Unzip the file"
   ]
  },
  {
   "cell_type": "code",
   "execution_count": null,
   "metadata": {
    "id": "QM9t2_TkeMGa"
   },
   "outputs": [],
   "source": [
    "!unzip -q deep-learning-spring-2025-project-1.zip -d /content/"
   ]
  },
  {
   "cell_type": "markdown",
   "metadata": {
    "id": "rNtmwuvRewPY"
   },
   "source": [
    "Check the unzipped files"
   ]
  },
  {
   "cell_type": "code",
   "execution_count": null,
   "metadata": {
    "colab": {
     "base_uri": "https://localhost:8080/"
    },
    "id": "HUzkOZteev_k",
    "outputId": "9b1f8e70-d9ac-48c7-d3d6-c369e0fcbca0"
   },
   "outputs": [
    {
     "name": "stdout",
     "output_type": "stream",
     "text": [
      "['.config', 'cifar_test_nolabel.pkl', 'cifar-10-python', 'deep-learning-spring-2025-project-1.zip', 'sample_data']\n"
     ]
    }
   ],
   "source": [
    "print(os.listdir('/content'))"
   ]
  },
  {
   "cell_type": "markdown",
   "metadata": {
    "id": "xfinhqlmft7E"
   },
   "source": [
    "If everything went well, we are okay to remove the .zip file"
   ]
  },
  {
   "cell_type": "code",
   "execution_count": null,
   "metadata": {
    "id": "6DIP3G3Xfzdq"
   },
   "outputs": [],
   "source": [
    "!rm deep-learning-spring-2025-project-1.zip"
   ]
  },
  {
   "cell_type": "markdown",
   "metadata": {
    "id": "rIugLjz-A2Qd"
   },
   "source": [
    "Now we are ready to train our mode, first, import packages"
   ]
  },
  {
   "cell_type": "code",
   "execution_count": 1,
   "metadata": {
    "id": "7u8LG67I_2rW"
   },
   "outputs": [],
   "source": [
    "import numpy as np\n",
    "import torch\n",
    "import torch.nn as nn\n",
    "from torchvision import datasets\n",
    "from torchvision import transforms\n",
    "from torch.utils.data import DataLoader, random_split\n",
    "from torch.utils.data.sampler import SubsetRandomSampler\n",
    "import torch.nn.functional as F\n",
    "import pickle\n",
    "import pandas as pd\n",
    "from PIL import Image"
   ]
  },
  {
   "cell_type": "markdown",
   "metadata": {
    "id": "qPmcajSQFigD"
   },
   "source": [
    "Split the data into train, test and validation set"
   ]
  },
  {
   "cell_type": "code",
   "execution_count": 2,
   "metadata": {
    "id": "qs75-QKXfSO_"
   },
   "outputs": [],
   "source": [
    "Xtr_transform = transforms.Compose([\n",
    "        transforms.RandomCrop(32, padding=4),\n",
    "        transforms.RandomHorizontalFlip(),\n",
    "        transforms.ToTensor(),\n",
    "        transforms.RandomRotation(degrees=15),\n",
    "        transforms.RandomErasing(p=0.2, scale=(0.02, 0.2)),\n",
    "        transforms.ColorJitter(brightness=0.2, contrast=0.2, saturation=0.2, hue=0.1),\n",
    "        transforms.Normalize((0.4914, 0.4822, 0.4465), (0.2023, 0.1994, 0.2010)),\n",
    "    ])\n",
    "Xts_transform = transforms.Compose([\n",
    "    transforms.ToTensor(),\n",
    "    transforms.Normalize((0.4914, 0.4822, 0.4465), (0.2023, 0.1994, 0.2010))\n",
    "])\n",
    "Xtr = datasets.CIFAR10(root='cifar-10-python', train=True, download=False, transform=Xtr_transform)\n",
    "Xts = datasets.CIFAR10(root='cifar-10-python', download=False, transform=Xts_transform)\n",
    "\n",
    "Xtr_loader = DataLoader(Xtr, batch_size=256, shuffle=True, num_workers=2)\n",
    "Xts_loader = DataLoader(Xts, batch_size=256, shuffle=False, num_workers=2)"
   ]
  },
  {
   "cell_type": "markdown",
   "metadata": {
    "id": "yi-gHJ6KFz4W"
   },
   "source": [
    "Create data loaders for each set"
   ]
  },
  {
   "cell_type": "code",
   "execution_count": 3,
   "metadata": {
    "colab": {
     "base_uri": "https://localhost:8080/"
    },
    "id": "59ObN4RlB8Cu",
    "outputId": "8fc3b185-0093-4948-f1c8-e1cc5e7cc827"
   },
   "outputs": [
    {
     "name": "stdout",
     "output_type": "stream",
     "text": [
      "45000\n",
      "5000\n"
     ]
    }
   ],
   "source": [
    "full_size = len(Xtr)\n",
    "train_size = int(0.9 * full_size)\n",
    "val_size = full_size - train_size\n",
    "print(train_size)\n",
    "print(val_size)"
   ]
  },
  {
   "cell_type": "code",
   "execution_count": 4,
   "metadata": {
    "colab": {
     "base_uri": "https://localhost:8080/"
    },
    "id": "416nQ8ZwC13u",
    "outputId": "f58e8361-9316-457e-bec5-7213e613711b"
   },
   "outputs": [
    {
     "name": "stdout",
     "output_type": "stream",
     "text": [
      "Training Set: 45000 images\n",
      "Validation Set: 5000 images\n",
      "Test Set: 50000 images\n"
     ]
    }
   ],
   "source": [
    "Xtr_, Xval_ = random_split(Xtr, [train_size, val_size])\n",
    "\n",
    "# Print sizes\n",
    "print(f\"Training Set: {len(Xtr_)} images\")\n",
    "print(f\"Validation Set: {len(Xval_)} images\")\n",
    "print(f\"Test Set: {len(Xts)} images\")"
   ]
  },
  {
   "cell_type": "code",
   "execution_count": 5,
   "metadata": {
    "id": "j7VrIVsdEh8P"
   },
   "outputs": [],
   "source": [
    "Xtr_loader = DataLoader(Xtr_, batch_size=256, shuffle=True, num_workers=2)\n",
    "Xval_loader = DataLoader(Xval_, batch_size=256, shuffle=True, num_workers=2)\n",
    "Xts_loader = DataLoader(Xts, batch_size=256, shuffle=False, num_workers=2)"
   ]
  },
  {
   "cell_type": "code",
   "execution_count": 6,
   "metadata": {
    "colab": {
     "base_uri": "https://localhost:8080/"
    },
    "id": "ORK8d26Ku-iM",
    "outputId": "3a29310c-ffac-4f64-ff9e-80affc3d99bd"
   },
   "outputs": [
    {
     "name": "stdout",
     "output_type": "stream",
     "text": [
      "176\n",
      "20\n"
     ]
    }
   ],
   "source": [
    "print(len(Xtr_loader))\n",
    "print(len(Xval_loader))"
   ]
  },
  {
   "cell_type": "markdown",
   "metadata": {
    "id": "1satXS9KKQ_7"
   },
   "source": [
    "Initilize the model"
   ]
  },
  {
   "cell_type": "code",
   "execution_count": 7,
   "metadata": {
    "id": "5lVkciNWGLyL"
   },
   "outputs": [],
   "source": [
    "class BasicBlock(nn.Module):\n",
    "    expansion = 1\n",
    "\n",
    "    def __init__(self, in_planes, planes, stride=1):\n",
    "        super(BasicBlock, self).__init__()\n",
    "        self.conv1 = nn.Conv2d(\n",
    "            in_planes, planes, kernel_size=3, stride=stride, padding=1, bias=False)\n",
    "        self.bn1 = nn.BatchNorm2d(planes)\n",
    "        self.conv2 = nn.Conv2d(planes, planes, kernel_size=3,\n",
    "                               stride=1, padding=1, bias=False)\n",
    "        self.bn2 = nn.BatchNorm2d(planes)\n",
    "\n",
    "        self.shortcut = nn.Sequential()\n",
    "        if stride != 1 or in_planes != self.expansion*planes:\n",
    "            self.shortcut = nn.Sequential(\n",
    "                nn.Conv2d(in_planes, self.expansion*planes,\n",
    "                          kernel_size=1, stride=stride, bias=False),\n",
    "                nn.BatchNorm2d(self.expansion*planes)\n",
    "            )\n",
    "\n",
    "    def forward(self, x):\n",
    "        out = F.relu(self.bn1(self.conv1(x)))\n",
    "        out = self.bn2(self.conv2(out))\n",
    "        out += self.shortcut(x)\n",
    "        out = F.relu(out)\n",
    "        return out"
   ]
  },
  {
   "cell_type": "markdown",
   "metadata": {
    "id": "t55hvqM2bLIi"
   },
   "source": [
    "Build the neural network"
   ]
  },
  {
   "cell_type": "code",
   "execution_count": 8,
   "metadata": {
    "id": "VKTYhJzIbOJE"
   },
   "outputs": [],
   "source": [
    "class ResNetLarge(nn.Module):\n",
    "    def __init__(self, block, num_blocks, num_classes=10):\n",
    "        super(ResNetLarge, self).__init__()\n",
    "        self.in_planes = 64\n",
    "\n",
    "        self.conv1 = nn.Conv2d(3, 64, kernel_size=3, stride=1, padding=1, bias=False)\n",
    "        self.bn1 = nn.BatchNorm2d(64)\n",
    "        self.layer1 = self._make_layer(block, 64, num_blocks[0], stride=1)\n",
    "        self.layer2 = self._make_layer(block, 128, num_blocks[1], stride=2)\n",
    "        self.layer3 = self._make_layer(block, 256, num_blocks[2], stride=2)\n",
    "        self.layer4 = self._make_layer(block, 512, num_blocks[3], stride=2)\n",
    "        self.avgpool = nn.AdaptiveAvgPool2d((1, 1))\n",
    "        self.linear = nn.Linear(512, num_classes)\n",
    "\n",
    "    def _make_layer(self, block, planes, num_blocks, stride):\n",
    "        downsample = None\n",
    "        strides = [stride] + [1]*(num_blocks-1)\n",
    "        layers = []\n",
    "        for stride in strides:\n",
    "            layers.append(block(self.in_planes, planes, stride))\n",
    "            self.in_planes = planes\n",
    "        return nn.Sequential(*layers)\n",
    "\n",
    "\n",
    "    def forward(self, x):\n",
    "        x = F.relu(self.bn1(self.conv1(x)))\n",
    "        x = self.layer1(x)\n",
    "        x = self.layer2(x)\n",
    "        x = self.layer3(x)\n",
    "        x = self.layer4(x)\n",
    "        x = self.avgpool(x)\n",
    "        x = x.view(x.size(0), -1)\n",
    "        x = F.dropout(x, p=0.2, training=self.training)\n",
    "        x = self.linear(x)\n",
    "        return x\n",
    "\n",
    "def LargeResNet8():\n",
    "    return ResNetLarge(BasicBlock, [1, 1, 1, 1])\n",
    "\n",
    "def LargeResNet10():\n",
    "    return ResNetLarge(BasicBlock, [2, 2, 2, 2])"
   ]
  },
  {
   "cell_type": "markdown",
   "metadata": {
    "id": "QZJKk7eWkcBh"
   },
   "source": [
    "## Train the model"
   ]
  },
  {
   "cell_type": "markdown",
   "metadata": {
    "id": "f4z7iY1pkk2C"
   },
   "source": [
    "First, configure the device"
   ]
  },
  {
   "cell_type": "code",
   "execution_count": 9,
   "metadata": {
    "id": "e3wMn_41kd5K"
   },
   "outputs": [],
   "source": [
    "# Device configuration\n",
    "device = torch.device('cuda' if torch.cuda.is_available() else 'cpu')"
   ]
  },
  {
   "cell_type": "markdown",
   "metadata": {
    "id": "U7xK2W7flOZR"
   },
   "source": [
    "Set the hyperparameters"
   ]
  },
  {
   "cell_type": "code",
   "execution_count": 10,
   "metadata": {
    "id": "Uu4Mo6lHlX_N"
   },
   "outputs": [],
   "source": [
    "num_classes = 10\n",
    "num_epochs = 80\n",
    "learning_rate = 0.01"
   ]
  },
  {
   "cell_type": "markdown",
   "metadata": {
    "id": "enn3pii4loGT"
   },
   "source": [
    "Setup model"
   ]
  },
  {
   "cell_type": "code",
   "execution_count": 11,
   "metadata": {},
   "outputs": [],
   "source": [
    "# MixUp function to help generalize the image \n",
    "def mixup_data(x, y, alpha=0.2, device='cuda'):\n",
    "    \"\"\"Applies MixUp augmentation on input data.\"\"\"\n",
    "    lam = np.random.beta(alpha, alpha)\n",
    "    index = torch.randperm(x.size(0)).to(device)  # Ensure index is on the same device as x\n",
    "\n",
    "    # Move inputs and labels to device\n",
    "    x, y = x.to(device), y.to(device)\n",
    "\n",
    "    # Mix the images\n",
    "    mixed_x = lam * x + (1 - lam) * x[index, :]\n",
    "\n",
    "    # Convert labels to one-hot encoding\n",
    "    y_onehot = F.one_hot(y, num_classes=10).float().to(device)  # Ensure labels are on device\n",
    "    mixed_y = lam * y_onehot + (1 - lam) * y_onehot[index]\n",
    "\n",
    "    return mixed_x, mixed_y, lam"
   ]
  },
  {
   "cell_type": "code",
   "execution_count": 12,
   "metadata": {
    "colab": {
     "base_uri": "https://localhost:8080/"
    },
    "id": "7wByteCjlpir",
    "outputId": "579e7e27-ae5b-4bb5-8a0a-4a90136a8399"
   },
   "outputs": [
    {
     "name": "stdout",
     "output_type": "stream",
     "text": [
      "Total Trainable Parameters: 4903242\n"
     ]
    }
   ],
   "source": [
    "model = LargeResNet8().to(device)\n",
    "#Loss and optimizer\n",
    "criterion = nn.CrossEntropyLoss(label_smoothing=0.05) # Add label_smoothing to avoid overfitting\n",
    "optimizer = torch.optim.AdamW(model.parameters(), lr=3e-4, weight_decay=1e-4)  # Increase weight decay slightly\n",
    "scheduler = torch.optim.lr_scheduler.OneCycleLR(\n",
    "    optimizer, \n",
    "    max_lr=0.01,    \n",
    "    total_steps=num_epochs * len(Xtr_loader), \n",
    "    pct_start=0.3,  \n",
    "    anneal_strategy='cos',  \n",
    "    final_div_factor=1e4  \n",
    ")\n",
    "# See the total number of trainable parameters\n",
    "total_params = sum(p.numel() for p in model.parameters() if p.requires_grad)\n",
    "print(f\"Total Trainable Parameters: {total_params}\")"
   ]
  },
  {
   "cell_type": "markdown",
   "metadata": {
    "id": "HMb2yJkzl2WR"
   },
   "source": [
    "Now, training"
   ]
  },
  {
   "cell_type": "code",
   "execution_count": 13,
   "metadata": {
    "colab": {
     "base_uri": "https://localhost:8080/"
    },
    "id": "MCkEmySel304",
    "outputId": "fcbbcf84-64ac-4c3b-b606-307d2dc13800"
   },
   "outputs": [
    {
     "name": "stdout",
     "output_type": "stream",
     "text": [
      "Epoch [1/80], Loss: 1.828, Train Acc: 38.89%, Validation Acc: 50.14%, Test Acc: 54.75%\n",
      "Epoch [2/80], Loss: 1.577, Train Acc: 51.84%, Validation Acc: 52.42%, Test Acc: 56.59%\n",
      "Epoch [3/80], Loss: 1.444, Train Acc: 58.92%, Validation Acc: 54.76%, Test Acc: 62.27%\n",
      "Epoch [4/80], Loss: 1.407, Train Acc: 61.90%, Validation Acc: 55.70%, Test Acc: 57.27%\n",
      "Epoch [5/80], Loss: 1.313, Train Acc: 65.77%, Validation Acc: 70.62%, Test Acc: 76.50%\n",
      "Epoch [6/80], Loss: 1.254, Train Acc: 68.04%, Validation Acc: 66.90%, Test Acc: 71.68%\n",
      "Epoch [7/80], Loss: 1.265, Train Acc: 68.64%, Validation Acc: 68.94%, Test Acc: 75.66%\n",
      "Epoch [8/80], Loss: 1.219, Train Acc: 70.09%, Validation Acc: 74.08%, Test Acc: 79.60%\n",
      "Epoch [9/80], Loss: 1.257, Train Acc: 70.14%, Validation Acc: 74.56%, Test Acc: 79.89%\n",
      "Epoch [10/80], Loss: 1.175, Train Acc: 72.73%, Validation Acc: 72.44%, Test Acc: 78.60%\n",
      "Epoch [11/80], Loss: 1.146, Train Acc: 73.65%, Validation Acc: 76.84%, Test Acc: 81.28%\n",
      "Epoch [12/80], Loss: 1.119, Train Acc: 74.50%, Validation Acc: 75.14%, Test Acc: 80.98%\n",
      "Epoch [13/80], Loss: 1.063, Train Acc: 75.81%, Validation Acc: 76.74%, Test Acc: 82.16%\n",
      "Epoch [14/80], Loss: 1.137, Train Acc: 74.09%, Validation Acc: 78.74%, Test Acc: 84.33%\n",
      "Epoch [15/80], Loss: 1.028, Train Acc: 77.51%, Validation Acc: 78.12%, Test Acc: 84.30%\n",
      "Epoch [16/80], Loss: 1.012, Train Acc: 78.66%, Validation Acc: 77.94%, Test Acc: 85.42%\n",
      "Epoch [17/80], Loss: 1.021, Train Acc: 78.10%, Validation Acc: 79.78%, Test Acc: 86.07%\n",
      "Epoch [18/80], Loss: 1.014, Train Acc: 78.69%, Validation Acc: 79.44%, Test Acc: 85.20%\n",
      "Epoch [19/80], Loss: 1.016, Train Acc: 79.12%, Validation Acc: 79.70%, Test Acc: 85.96%\n",
      "Epoch [20/80], Loss: 1.028, Train Acc: 79.47%, Validation Acc: 79.56%, Test Acc: 86.87%\n",
      "Epoch [21/80], Loss: 1.003, Train Acc: 80.89%, Validation Acc: 79.18%, Test Acc: 84.99%\n",
      "Epoch [22/80], Loss: 0.947, Train Acc: 81.45%, Validation Acc: 82.98%, Test Acc: 88.98%\n",
      "Epoch [23/80], Loss: 0.960, Train Acc: 81.99%, Validation Acc: 82.38%, Test Acc: 89.38%\n",
      "Epoch [24/80], Loss: 1.001, Train Acc: 81.70%, Validation Acc: 84.22%, Test Acc: 90.67%\n",
      "Epoch [25/80], Loss: 0.961, Train Acc: 81.62%, Validation Acc: 82.52%, Test Acc: 88.72%\n",
      "Epoch [26/80], Loss: 0.962, Train Acc: 82.23%, Validation Acc: 84.32%, Test Acc: 91.24%\n",
      "Epoch [27/80], Loss: 0.959, Train Acc: 81.84%, Validation Acc: 84.44%, Test Acc: 90.94%\n",
      "Epoch [28/80], Loss: 0.909, Train Acc: 83.41%, Validation Acc: 84.96%, Test Acc: 91.33%\n",
      "Epoch [29/80], Loss: 0.961, Train Acc: 82.26%, Validation Acc: 83.82%, Test Acc: 91.02%\n",
      "Epoch [30/80], Loss: 0.896, Train Acc: 84.00%, Validation Acc: 85.68%, Test Acc: 91.78%\n",
      "Epoch [31/80], Loss: 0.934, Train Acc: 83.11%, Validation Acc: 86.00%, Test Acc: 91.91%\n",
      "Epoch [32/80], Loss: 0.887, Train Acc: 85.33%, Validation Acc: 85.30%, Test Acc: 91.41%\n",
      "Epoch [33/80], Loss: 0.900, Train Acc: 84.57%, Validation Acc: 85.08%, Test Acc: 91.57%\n",
      "Epoch [34/80], Loss: 0.890, Train Acc: 85.14%, Validation Acc: 85.56%, Test Acc: 93.26%\n",
      "Epoch [35/80], Loss: 0.846, Train Acc: 86.04%, Validation Acc: 87.18%, Test Acc: 93.89%\n",
      "Epoch [36/80], Loss: 0.876, Train Acc: 85.79%, Validation Acc: 86.00%, Test Acc: 93.64%\n",
      "Epoch [37/80], Loss: 0.847, Train Acc: 86.68%, Validation Acc: 86.34%, Test Acc: 93.34%\n",
      "Epoch [38/80], Loss: 0.890, Train Acc: 84.89%, Validation Acc: 86.54%, Test Acc: 94.36%\n",
      "Epoch [39/80], Loss: 0.828, Train Acc: 87.28%, Validation Acc: 86.96%, Test Acc: 94.15%\n",
      "Epoch [40/80], Loss: 0.819, Train Acc: 86.90%, Validation Acc: 87.00%, Test Acc: 94.06%\n",
      "Epoch [41/80], Loss: 0.830, Train Acc: 87.78%, Validation Acc: 88.08%, Test Acc: 95.50%\n",
      "Epoch [42/80], Loss: 0.830, Train Acc: 87.58%, Validation Acc: 88.14%, Test Acc: 95.17%\n",
      "Epoch [43/80], Loss: 0.835, Train Acc: 87.05%, Validation Acc: 88.04%, Test Acc: 95.24%\n",
      "Epoch [44/80], Loss: 0.824, Train Acc: 88.34%, Validation Acc: 87.94%, Test Acc: 95.68%\n",
      "Epoch [45/80], Loss: 0.859, Train Acc: 87.10%, Validation Acc: 88.96%, Test Acc: 96.13%\n",
      "Epoch [46/80], Loss: 0.836, Train Acc: 88.02%, Validation Acc: 88.04%, Test Acc: 95.73%\n",
      "Epoch [47/80], Loss: 0.803, Train Acc: 89.22%, Validation Acc: 88.14%, Test Acc: 95.92%\n",
      "Epoch [48/80], Loss: 0.803, Train Acc: 88.77%, Validation Acc: 88.36%, Test Acc: 96.19%\n",
      "Epoch [49/80], Loss: 0.829, Train Acc: 88.28%, Validation Acc: 88.90%, Test Acc: 96.37%\n",
      "Epoch [50/80], Loss: 0.793, Train Acc: 89.01%, Validation Acc: 89.64%, Test Acc: 96.85%\n",
      "Epoch [51/80], Loss: 0.821, Train Acc: 88.68%, Validation Acc: 89.68%, Test Acc: 96.69%\n",
      "Epoch [52/80], Loss: 0.791, Train Acc: 89.66%, Validation Acc: 89.78%, Test Acc: 97.03%\n",
      "Epoch [53/80], Loss: 0.801, Train Acc: 89.70%, Validation Acc: 89.80%, Test Acc: 97.10%\n",
      "Epoch [54/80], Loss: 0.805, Train Acc: 88.86%, Validation Acc: 90.06%, Test Acc: 97.66%\n",
      "Epoch [55/80], Loss: 0.763, Train Acc: 89.41%, Validation Acc: 89.60%, Test Acc: 97.69%\n",
      "Epoch [56/80], Loss: 0.796, Train Acc: 89.40%, Validation Acc: 90.08%, Test Acc: 97.99%\n",
      "Epoch [57/80], Loss: 0.763, Train Acc: 90.97%, Validation Acc: 89.86%, Test Acc: 97.95%\n",
      "Epoch [58/80], Loss: 0.782, Train Acc: 90.28%, Validation Acc: 90.32%, Test Acc: 98.11%\n",
      "Epoch [59/80], Loss: 0.793, Train Acc: 90.58%, Validation Acc: 90.26%, Test Acc: 98.18%\n",
      "Epoch [60/80], Loss: 0.749, Train Acc: 90.68%, Validation Acc: 90.52%, Test Acc: 98.24%\n",
      "Epoch [61/80], Loss: 0.694, Train Acc: 92.09%, Validation Acc: 90.88%, Test Acc: 98.31%\n",
      "Epoch [62/80], Loss: 0.722, Train Acc: 91.93%, Validation Acc: 90.74%, Test Acc: 98.32%\n",
      "Epoch [63/80], Loss: 0.771, Train Acc: 91.13%, Validation Acc: 91.22%, Test Acc: 98.57%\n",
      "Epoch [64/80], Loss: 0.700, Train Acc: 93.13%, Validation Acc: 91.42%, Test Acc: 98.71%\n",
      "Epoch [65/80], Loss: 0.701, Train Acc: 92.53%, Validation Acc: 90.90%, Test Acc: 98.82%\n",
      "Epoch [66/80], Loss: 0.659, Train Acc: 93.19%, Validation Acc: 91.86%, Test Acc: 98.80%\n",
      "Epoch [67/80], Loss: 0.730, Train Acc: 91.74%, Validation Acc: 91.64%, Test Acc: 98.89%\n",
      "Epoch [68/80], Loss: 0.719, Train Acc: 92.11%, Validation Acc: 91.50%, Test Acc: 98.94%\n",
      "Epoch [69/80], Loss: 0.693, Train Acc: 92.57%, Validation Acc: 91.34%, Test Acc: 99.07%\n",
      "Epoch [70/80], Loss: 0.691, Train Acc: 93.81%, Validation Acc: 91.56%, Test Acc: 99.07%\n",
      "Epoch [71/80], Loss: 0.703, Train Acc: 93.72%, Validation Acc: 91.70%, Test Acc: 99.05%\n",
      "Epoch [72/80], Loss: 0.761, Train Acc: 91.12%, Validation Acc: 91.52%, Test Acc: 99.06%\n",
      "Epoch [73/80], Loss: 0.692, Train Acc: 93.07%, Validation Acc: 91.78%, Test Acc: 99.11%\n",
      "Epoch [74/80], Loss: 0.742, Train Acc: 92.63%, Validation Acc: 92.18%, Test Acc: 99.08%\n",
      "Epoch [75/80], Loss: 0.724, Train Acc: 92.10%, Validation Acc: 91.82%, Test Acc: 99.12%\n",
      "Epoch [76/80], Loss: 0.772, Train Acc: 92.16%, Validation Acc: 91.70%, Test Acc: 99.09%\n",
      "Epoch [77/80], Loss: 0.655, Train Acc: 93.64%, Validation Acc: 92.04%, Test Acc: 99.16%\n",
      "Epoch [78/80], Loss: 0.655, Train Acc: 93.36%, Validation Acc: 91.80%, Test Acc: 99.13%\n",
      "Epoch [79/80], Loss: 0.660, Train Acc: 94.08%, Validation Acc: 91.76%, Test Acc: 99.14%\n",
      "Epoch [80/80], Loss: 0.655, Train Acc: 94.12%, Validation Acc: 92.04%, Test Acc: 99.13%\n"
     ]
    }
   ],
   "source": [
    "train_losses = []\n",
    "test_losses = []\n",
    "val_losses = []\n",
    "val_accuracies = []\n",
    "train_accuracies = []\n",
    "test_accuracies = []\n",
    "\n",
    "for epoch in range(num_epochs):\n",
    "    model.train()\n",
    "    running_loss = 0.0\n",
    "    correct = 0\n",
    "    total = 0\n",
    "    for i, (inputs, labels) in enumerate(Xtr_loader):\n",
    "        #inputs, labels = inputs.to(device), labels.to(device)\n",
    "        inputs, labels, lam = mixup_data(inputs, labels, alpha=0.2)\n",
    "        optimizer.zero_grad() # zero outs gradients\n",
    "        outputs = model(inputs) # forward pass : model outsputs predictions\n",
    "        loss = criterion(outputs, labels) # computes the loss\n",
    "        #loss = criterion(F.log_softmax(outputs, dim=1), labels)\n",
    "        loss.backward() #backward pass to compute the gradients\n",
    "        optimizer.step() #updates the parameters.\n",
    "        running_loss += loss.item()\n",
    "        _, predicted = outputs.max(1)\n",
    "        total += labels.size(0)\n",
    "        labels = labels.argmax(dim=1) \n",
    "        correct += predicted.eq(labels).sum().item()\n",
    "        scheduler.step()\n",
    "\n",
    "    # Save training stats\n",
    "    train_loss = running_loss / len(Xtr_loader)\n",
    "    train_acc = 100.*correct/total\n",
    "    train_losses.append(train_loss)\n",
    "    train_accuracies.append(train_acc)\n",
    "    #scheduler.step()\n",
    "\n",
    "    # Validation\n",
    "    model.eval()\n",
    "    val_loss = 0.0\n",
    "    correct_val = 0\n",
    "    total_val = 0\n",
    "\n",
    "    with torch.no_grad():\n",
    "        for inputs_val, labels_val in Xval_loader:  # Use validation loader\n",
    "            inputs_val, labels_val = inputs_val.to(device), labels_val.to(device)\n",
    "            outputs_val = model(inputs_val)\n",
    "            loss_val = criterion(outputs_val, labels_val)\n",
    "            val_loss += loss_val.item()\n",
    "            _, predicted_val = outputs_val.max(1)\n",
    "            total_val += labels_val.size(0)\n",
    "            correct_val += predicted_val.eq(labels_val).sum().item()\n",
    "            #scheduler.step()\n",
    "\n",
    "    val_acc = 100. * correct_val / total_val\n",
    "    val_loss = val_loss / len(Xval_loader)\n",
    "\n",
    "    # Save validation stats\n",
    "    val_losses.append(val_loss)\n",
    "    val_accuracies.append(val_acc)\n",
    "\n",
    "    # Test\n",
    "    model.eval()\n",
    "    test_loss = 0.0\n",
    "    correct_test = 0\n",
    "    total_test = 0\n",
    "    with torch.no_grad():\n",
    "      for inputs_test, labels_test in Xts_loader:\n",
    "            inputs_test, labels_test = inputs_test.to(device), labels_test.to(device)\n",
    "            outputs_test = model(inputs_test)\n",
    "            loss_test = criterion(outputs_test, labels_test)\n",
    "            test_loss += loss_test.item()\n",
    "            _, predicted_test = outputs_test.max(1)\n",
    "            total_test += labels_test.size(0)\n",
    "            correct_test += predicted_test.eq(labels_test).sum().item()\n",
    "            #scheduler.step()\n",
    "          \n",
    "      test_acc = 100.*correct_test/total_test\n",
    "      test_loss = test_loss / len(Xts_loader)\n",
    "      test_acc = 100. * correct_test / total_test\n",
    "\n",
    "      # Save test stats\n",
    "      test_losses.append(test_loss)\n",
    "      test_accuracies.append(test_acc)\n",
    "      print(f\"Epoch [{epoch+1}/{num_epochs}], \"\n",
    "            f\"Loss: {running_loss/len(Xtr_loader):.3f}, \"\n",
    "            f\"Train Acc: {train_acc:.2f}%, Validation Acc: {val_acc:.2f}%, Test Acc: {test_acc:.2f}%\")"
   ]
  },
  {
   "cell_type": "markdown",
   "metadata": {
    "id": "ROrBzK7sn7NT"
   },
   "source": [
    "## Plot Loss & Accuracy Over Epochs"
   ]
  },
  {
   "cell_type": "code",
   "execution_count": 14,
   "metadata": {
    "colab": {
     "base_uri": "https://localhost:8080/",
     "height": 487
    },
    "id": "vrXjkyd-EjLJ",
    "outputId": "397b6c5e-532c-4df1-86dc-659fba42b3d8"
   },
   "outputs": [
    {
     "data": {
      "image/png": "[encoded data removed]",
      "text/plain": [
       "<Figure size 1200x500 with 2 Axes>"
      ]
     },
     "metadata": {},
     "output_type": "display_data"
    }
   ],
   "source": [
    "import matplotlib.pyplot as plt\n",
    "\n",
    "# ✅ Plot Loss vs. Epochs\n",
    "plt.figure(figsize=(12, 5))\n",
    "plt.subplot(1, 2, 1)\n",
    "plt.plot(range(1, num_epochs+1), train_losses, label=\"Train Loss\", marker='o')\n",
    "plt.plot(range(1, num_epochs+1), val_losses, label=\"Validation Loss\", marker='o')\n",
    "plt.plot(range(1, num_epochs+1), test_losses, label=\"Test Loss\", marker='o')\n",
    "plt.xlabel(\"Epoch\")\n",
    "plt.ylabel(\"Loss\")\n",
    "plt.title(\"Loss vs. Epochs\")\n",
    "plt.legend()\n",
    "plt.grid()\n",
    "\n",
    "# ✅ Plot Accuracy vs. Epochs\n",
    "plt.subplot(1, 2, 2)\n",
    "plt.plot(range(1, num_epochs+1), train_accuracies, label=\"Train Accuracy\", marker='o')\n",
    "plt.plot(range(1, num_epochs+1), val_accuracies, label=\"Validation Accuracy\", marker='o')\n",
    "plt.plot(range(1, num_epochs+1), test_accuracies, label=\"Test Accuracy\", marker='o')\n",
    "plt.xlabel(\"Epoch\")\n",
    "plt.ylabel(\"Accuracy (%)\")\n",
    "plt.title(\"Train vs. Test Accuracy\")\n",
    "plt.legend()\n",
    "plt.grid()\n",
    "\n",
    "plt.show()"
   ]
  },
  {
   "cell_type": "markdown",
   "metadata": {
    "id": "H5EFdXDNEj5h"
   },
   "source": [
    "## Evaluate the model with Test Dataset"
   ]
  },
  {
   "cell_type": "code",
   "execution_count": 15,
   "metadata": {
    "id": "slNEWbnNsrUE"
   },
   "outputs": [],
   "source": [
    "def unpickle(file):\n",
    "    import pickle\n",
    "    with open(file, 'rb') as fo:\n",
    "        dict = pickle.load(fo, encoding='bytes')\n",
    "    return dict"
   ]
  },
  {
   "cell_type": "code",
   "execution_count": 16,
   "metadata": {
    "id": "dhUmXRVRszQv"
   },
   "outputs": [],
   "source": [
    "dict_ = unpickle('cifar_test_nolabel.pkl')"
   ]
  },
  {
   "cell_type": "code",
   "execution_count": 17,
   "metadata": {
    "id": "ImN5ldNCErFG"
   },
   "outputs": [],
   "source": [
    "# Define transform for preprocessing\n",
    "transform = transforms.Compose([\n",
    "      transforms.ToTensor(),  # Converts (H, W, C) NumPy to PyTorch tensor (C, H, W)\n",
    "      transforms.Normalize((0.4914, 0.4822, 0.4465), (0.2023, 0.1994, 0.2010)),# Normalize\n",
    "  ])\n",
    "\n",
    "images = dict_[b'data']  # NumPy array of shape [N, H, W, C]\n",
    "labels = dict_[b'ids']   # Array of integer labels"
   ]
  },
  {
   "cell_type": "markdown",
   "metadata": {
    "id": "pH3t4iYxfL6X"
   },
   "source": [
    "## Evaluate the model"
   ]
  },
  {
   "cell_type": "code",
   "execution_count": 18,
   "metadata": {},
   "outputs": [
    {
     "data": {
      "text/plain": [
       "ResNetLarge(\n",
       "  (conv1): Conv2d(3, 64, kernel_size=(3, 3), stride=(1, 1), padding=(1, 1), bias=False)\n",
       "  (bn1): BatchNorm2d(64, eps=1e-05, momentum=0.1, affine=True, track_running_stats=True)\n",
       "  (layer1): Sequential(\n",
       "    (0): BasicBlock(\n",
       "      (conv1): Conv2d(64, 64, kernel_size=(3, 3), stride=(1, 1), padding=(1, 1), bias=False)\n",
       "      (bn1): BatchNorm2d(64, eps=1e-05, momentum=0.1, affine=True, track_running_stats=True)\n",
       "      (conv2): Conv2d(64, 64, kernel_size=(3, 3), stride=(1, 1), padding=(1, 1), bias=False)\n",
       "      (bn2): BatchNorm2d(64, eps=1e-05, momentum=0.1, affine=True, track_running_stats=True)\n",
       "      (shortcut): Sequential()\n",
       "    )\n",
       "  )\n",
       "  (layer2): Sequential(\n",
       "    (0): BasicBlock(\n",
       "      (conv1): Conv2d(64, 128, kernel_size=(3, 3), stride=(2, 2), padding=(1, 1), bias=False)\n",
       "      (bn1): BatchNorm2d(128, eps=1e-05, momentum=0.1, affine=True, track_running_stats=True)\n",
       "      (conv2): Conv2d(128, 128, kernel_size=(3, 3), stride=(1, 1), padding=(1, 1), bias=False)\n",
       "      (bn2): BatchNorm2d(128, eps=1e-05, momentum=0.1, affine=True, track_running_stats=True)\n",
       "      (shortcut): Sequential(\n",
       "        (0): Conv2d(64, 128, kernel_size=(1, 1), stride=(2, 2), bias=False)\n",
       "        (1): BatchNorm2d(128, eps=1e-05, momentum=0.1, affine=True, track_running_stats=True)\n",
       "      )\n",
       "    )\n",
       "  )\n",
       "  (layer3): Sequential(\n",
       "    (0): BasicBlock(\n",
       "      (conv1): Conv2d(128, 256, kernel_size=(3, 3), stride=(2, 2), padding=(1, 1), bias=False)\n",
       "      (bn1): BatchNorm2d(256, eps=1e-05, momentum=0.1, affine=True, track_running_stats=True)\n",
       "      (conv2): Conv2d(256, 256, kernel_size=(3, 3), stride=(1, 1), padding=(1, 1), bias=False)\n",
       "      (bn2): BatchNorm2d(256, eps=1e-05, momentum=0.1, affine=True, track_running_stats=True)\n",
       "      (shortcut): Sequential(\n",
       "        (0): Conv2d(128, 256, kernel_size=(1, 1), stride=(2, 2), bias=False)\n",
       "        (1): BatchNorm2d(256, eps=1e-05, momentum=0.1, affine=True, track_running_stats=True)\n",
       "      )\n",
       "    )\n",
       "  )\n",
       "  (layer4): Sequential(\n",
       "    (0): BasicBlock(\n",
       "      (conv1): Conv2d(256, 512, kernel_size=(3, 3), stride=(2, 2), padding=(1, 1), bias=False)\n",
       "      (bn1): BatchNorm2d(512, eps=1e-05, momentum=0.1, affine=True, track_running_stats=True)\n",
       "      (conv2): Conv2d(512, 512, kernel_size=(3, 3), stride=(1, 1), padding=(1, 1), bias=False)\n",
       "      (bn2): BatchNorm2d(512, eps=1e-05, momentum=0.1, affine=True, track_running_stats=True)\n",
       "      (shortcut): Sequential(\n",
       "        (0): Conv2d(256, 512, kernel_size=(1, 1), stride=(2, 2), bias=False)\n",
       "        (1): BatchNorm2d(512, eps=1e-05, momentum=0.1, affine=True, track_running_stats=True)\n",
       "      )\n",
       "    )\n",
       "  )\n",
       "  (avgpool): AdaptiveAvgPool2d(output_size=(1, 1))\n",
       "  (linear): Linear(in_features=512, out_features=10, bias=True)\n",
       ")"
      ]
     },
     "execution_count": 18,
     "metadata": {},
     "output_type": "execute_result"
    }
   ],
   "source": [
    "model.to(device)\n",
    "model.eval()"
   ]
  },
  {
   "cell_type": "code",
   "execution_count": 19,
   "metadata": {
    "colab": {
     "base_uri": "https://localhost:8080/"
    },
    "id": "YPSWUResuYfD",
    "outputId": "8fb7469e-35a6-42e8-b33b-f386c8fcb1f4"
   },
   "outputs": [
    {
     "name": "stdout",
     "output_type": "stream",
     "text": [
      "Model Accuracy: 77.01% on provided dataset\n"
     ]
    }
   ],
   "source": [
    "predictions = []\n",
    "with torch.no_grad():  # No gradient calculation during evaluation\n",
    "  for i in range(len(images)):\n",
    "    img_np = images[i]  # Get the ith image (H, W, C)\n",
    "    label = labels[i]   # Get the ith label\n",
    "\n",
    "    # Convert NumPy image to PIL and apply transform\n",
    "    img_pil = Image.fromarray(img_np.astype(np.uint8))\n",
    "    img_tensor = transform(img_pil).unsqueeze(0).to(device)  # Add batch dimension\n",
    "\n",
    "    # Forward pass through model\n",
    "    output = model(img_tensor)\n",
    "    _, predicted = torch.max(output, 1)  # Get predicted class\n",
    "\n",
    "    # Update accuracy count\n",
    "    total += 1\n",
    "    correct += (predicted.item() == label)\n",
    "    predictions.extend(predicted.cpu().numpy())\n",
    "accuracy = 100. * correct / total\n",
    "print(f\"Model Accuracy: {accuracy:.2f}% on provided dataset\")"
   ]
  },
  {
   "cell_type": "markdown",
   "metadata": {
    "id": "D78owVJAfrFZ"
   },
   "source": [
    "## Collect the final result"
   ]
  },
  {
   "cell_type": "code",
   "execution_count": 20,
   "metadata": {
    "colab": {
     "base_uri": "https://localhost:8080/"
    },
    "id": "1RKXND4rftgt",
    "outputId": "32ff7af5-1d38-4ca6-a233-bb6143e40a8b"
   },
   "outputs": [
    {
     "name": "stdout",
     "output_type": "stream",
     "text": [
      "Predictions saved to predictions.csv\n"
     ]
    }
   ],
   "source": [
    "import pandas as pd\n",
    "\n",
    "# Create a DataFrame\n",
    "df = pd.DataFrame({\n",
    "    'ID': range(len(predictions)),  # Ground truth labels\n",
    "    'Labels': predictions  # Model's predictions\n",
    "})\n",
    "\n",
    "# Save to CSV\n",
    "csv_filename = \"predictions.csv\"\n",
    "df.to_csv(csv_filename, index=False)\n",
    "\n",
    "print(f\"Predictions saved to {csv_filename}\")"
   ]
  },
  {
   "cell_type": "code",
   "execution_count": null,
   "metadata": {},
   "outputs": [],
   "source": []
  }
 ],
 "metadata": {
  "accelerator": "GPU",
  "colab": {
   "gpuType": "A100",
   "provenance": []
  },
  "kernelspec": {
   "display_name": "Python 3 (ipykernel)",
   "language": "python",
   "name": "python3"
  },
  "language_info": {
   "codemirror_mode": {
    "name": "ipython",
    "version": 3
   },
   "file_extension": ".py",
   "mimetype": "text/x-python",
   "name": "python",
   "nbconvert_exporter": "python",
   "pygments_lexer": "ipython3",
   "version": "3.9.18"
  }
 },
 "nbformat": 4,
 "nbformat_minor": 4
}
