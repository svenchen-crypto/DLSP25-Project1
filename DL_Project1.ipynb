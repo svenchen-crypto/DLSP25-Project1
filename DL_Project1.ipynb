{
 "cells": [
  {
   "cell_type": "code",
   "execution_count": null,
   "metadata": {},
   "outputs": [],
   "source": [
    "# import time\n",
    "# time.sleep(5000)"
   ]
  },
  {
   "cell_type": "code",
   "execution_count": 1,
   "metadata": {},
   "outputs": [],
   "source": [
    "competition_name = \"deep-learning-spring-2025-project-1\""
   ]
  },
  {
   "cell_type": "markdown",
   "metadata": {
    "id": "rIugLjz-A2Qd"
   },
   "source": [
    "### Import packages"
   ]
  },
  {
   "cell_type": "code",
   "execution_count": 10,
   "metadata": {},
   "outputs": [
    {
     "name": "stdout",
     "output_type": "stream",
     "text": [
      "The autoreload extension is already loaded. To reload it, use:\n",
      "  %reload_ext autoreload\n"
     ]
    }
   ],
   "source": [
    "%load_ext autoreload\n",
    "%autoreload 2\n",
    "\n",
    "import torch\n",
    "import torch.nn as nn\n",
    "import torch.optim as optim\n",
    "from torchvision import transforms, models\n",
    "import optuna\n",
    "import numpy as np\n",
    "import pandas as pd\n",
    "import os\n",
    "\n",
    "from data_loader import get_cifar10_dataloaders, get_test_dataloader\n",
    "from trainer import train_model\n",
    "# from model import ResNet18"
   ]
  },
  {
   "cell_type": "markdown",
   "metadata": {
    "id": "f4z7iY1pkk2C"
   },
   "source": [
    "Configure the device"
   ]
  },
  {
   "cell_type": "code",
   "execution_count": 11,
   "metadata": {
    "id": "e3wMn_41kd5K"
   },
   "outputs": [
    {
     "name": "stdout",
     "output_type": "stream",
     "text": [
      "Using device: cpu\n"
     ]
    }
   ],
   "source": [
    "# Device configuration\n",
    "device = torch.device('cuda' if torch.cuda.is_available() else 'cpu')\n",
    "print(\"Using device:\", device)"
   ]
  },
  {
   "cell_type": "code",
   "execution_count": 12,
   "metadata": {},
   "outputs": [],
   "source": [
    "# Define the objective function for Optuna\n",
    "def objective(trial):\n",
    "    # Suggest hyperparameters\n",
    "    num_epochs = trial.suggest_int(\"num_epochs\", 1, 1)\n",
    "    batch_size = trial.suggest_categorical(\"batch_size\", [16, 32, 64])\n",
    "    learning_rate = trial.suggest_float(\"learning_rate\", 1e-4, 1e-2, log=True)\n",
    "    optimizer_name = trial.suggest_categorical(\"optimizer\", [\"Adam\", \"SGD\", \"RMSprop\"])\n",
    "    momentum = trial.suggest_uniform(\"momentum\", 0.5, 0.9) if optimizer_name == \"SGD\" else None\n",
    "\n",
    "    # Suggest data transformations\n",
    "    transform = transforms.Compose([\n",
    "        # add random crop and padding\n",
    "        transforms.RandomHorizontalFlip(trial.suggest_float(\"h_flip\", 0.0, 1.0)),\n",
    "        transforms.RandomRotation(trial.suggest_int(\"rotation\", 0, 30)),\n",
    "        transforms.ToTensor(),\n",
    "        transforms.Normalize((0.4914, 0.4822, 0.4465), (0.2023, 0.1994, 0.2010))  # Normalize with mean and std of CIFAR-10\n",
    "    ])\n",
    "    \n",
    "    train_loader, valid_loader = get_cifar10_dataloaders(\n",
    "        transform,\n",
    "        subset_percent=0.0002, \n",
    "        valid_size=0.1,\n",
    "        batch_size=batch_size,\n",
    "        num_workers=4\n",
    "    )\n",
    "\n",
    "    # Define model\n",
    "    model = models.resnet18(pretrained=False)\n",
    "    model.fc = nn.Linear(model.fc.in_features, 10)  # CIFAR-10 has 10 classes\n",
    "    device = torch.device(\"cuda\" if torch.cuda.is_available() else \"cpu\")\n",
    "    model.to(device)\n",
    "\n",
    "    model_name = \"resnet18\"\n",
    "\n",
    "    # Print the current hyperparameters, transformations, and model name\n",
    "    print(\"-\" * 50)\n",
    "    print(f\"Trial {trial.number}:\")\n",
    "    print(f\"Model: {model_name}\")\n",
    "    print(f\"Epochs: {num_epochs}\")\n",
    "    print(f\"Batch Size: {batch_size}\")\n",
    "    print(f\"Learning Rate: {learning_rate}\")\n",
    "    print(f\"Optimizer: {optimizer_name}\")\n",
    "    if optimizer_name == \"SGD\":\n",
    "        print(f\"Momentum: {momentum}\")\n",
    "    print(f\"Transformations: {transform}\")\n",
    "    print(\"- \" * 25)\n",
    "\n",
    "    # Define optimizer\n",
    "    if optimizer_name == \"Adam\":\n",
    "        optimizer = optim.Adam(model.parameters(), lr=learning_rate)\n",
    "    elif optimizer_name == \"SGD\":\n",
    "        optimizer = optim.SGD(model.parameters(), lr=learning_rate, momentum=momentum)\n",
    "    else:\n",
    "        optimizer = optim.RMSprop(model.parameters(), lr=learning_rate)\n",
    "\n",
    "    criterion = nn.CrossEntropyLoss()\n",
    "\n",
    "    # Training\n",
    "    best_val_accuracy = train_model(\n",
    "        trial, model, train_loader, criterion, optimizer, \n",
    "        valid_loader=valid_loader, num_epochs=num_epochs, device=device)\n",
    "    \n",
    "    # Checkpoint the model with the best validation accuracy\n",
    "    model_filename = f\"model_trial_{trial.number}_val_acc_{best_val_accuracy:.4f}.pth\"\n",
    "    model_path = os.path.join(\"checkpoints\", model_filename)\n",
    "    \n",
    "    # Create a directory for checkpoints if it doesn't exist\n",
    "    os.makedirs(\"checkpoints\", exist_ok=True)\n",
    "    \n",
    "    # Save the model state_dict\n",
    "    torch.save(model.state_dict(), model_path)\n",
    "    print(f\"Model checkpoint saved to {model_path}\")\n",
    "\n",
    "    return best_val_accuracy"
   ]
  },
  {
   "cell_type": "code",
   "execution_count": null,
   "metadata": {},
   "outputs": [
    {
     "name": "stderr",
     "output_type": "stream",
     "text": [
      "[I 2025-03-09 11:50:13,514] A new study created in memory with name: no-name-c6521b0d-deab-4f8f-8c26-360cf0bd73a7\n",
      "/var/folders/5s/phhfgg0x0r13bznnhl_7fdlw0000gn/T/ipykernel_72333/4234950038.py:8: FutureWarning: suggest_uniform has been deprecated in v3.0.0. This feature will be removed in v6.0.0. See https://github.com/optuna/optuna/releases/tag/v3.0.0. Use suggest_float instead.\n",
      "  momentum = trial.suggest_uniform(\"momentum\", 0.5, 0.9) if optimizer_name == \"SGD\" else None\n"
     ]
    },
    {
     "name": "stdout",
     "output_type": "stream",
     "text": [
      "Image shape: torch.Size([3, 32, 32])\n",
      "Label: 8\n",
      "Number of training data: 9\n",
      "Number of validation data: 1\n",
      "--------------------------------------------------\n",
      "Trial 0:\n",
      "Model: resnet18\n",
      "Epochs: 1\n",
      "Batch Size: 32\n",
      "Learning Rate: 0.0012632204925797196\n",
      "Optimizer: SGD\n",
      "Momentum: 0.5259893129532928\n",
      "Transformations: Compose(\n",
      "    RandomHorizontalFlip(p=0.2667636437690398)\n",
      "    RandomRotation(degrees=[-18.0, 18.0], interpolation=nearest, expand=False, fill=0)\n",
      "    ToTensor()\n",
      "    Normalize(mean=(0.4914, 0.4822, 0.4465), std=(0.2023, 0.1994, 0.201))\n",
      ")\n",
      "- - - - - - - - - - - - - - - - - - - - - - - - - \n"
     ]
    },
    {
     "name": "stderr",
     "output_type": "stream",
     "text": [
      "[I 2025-03-09 11:50:37,597] Trial 0 finished with value: 0.0 and parameters: {'num_epochs': 1, 'batch_size': 32, 'learning_rate': 0.0012632204925797196, 'optimizer': 'SGD', 'momentum': 0.5259893129532928, 'h_flip': 0.2667636437690398, 'rotation': 18}. Best is trial 0 with value: 0.0.\n"
     ]
    },
    {
     "name": "stdout",
     "output_type": "stream",
     "text": [
      "  Validation Accuracy after Epoch 1: 0.0000\n",
      "Trial 0 complete. Best Validation Accuracy: 0.0000\n",
      "\n",
      "Model checkpoint saved to checkpoints/model_trial_0_val_acc_0.0000.pth\n",
      "Image shape: torch.Size([3, 32, 32])\n",
      "Label: 8\n",
      "Number of training data: 9\n",
      "Number of validation data: 1\n",
      "--------------------------------------------------\n",
      "Trial 1:\n",
      "Model: resnet18\n",
      "Epochs: 1\n",
      "Batch Size: 32\n",
      "Learning Rate: 0.0004578838787322066\n",
      "Optimizer: SGD\n",
      "Momentum: 0.7206165683835364\n",
      "Transformations: Compose(\n",
      "    RandomHorizontalFlip(p=0.7429052973489064)\n",
      "    RandomRotation(degrees=[-4.0, 4.0], interpolation=nearest, expand=False, fill=0)\n",
      "    ToTensor()\n",
      "    Normalize(mean=(0.4914, 0.4822, 0.4465), std=(0.2023, 0.1994, 0.201))\n",
      ")\n",
      "- - - - - - - - - - - - - - - - - - - - - - - - - \n"
     ]
    },
    {
     "name": "stderr",
     "output_type": "stream",
     "text": [
      "[I 2025-03-09 11:51:01,274] Trial 1 finished with value: 0.0 and parameters: {'num_epochs': 1, 'batch_size': 32, 'learning_rate': 0.0004578838787322066, 'optimizer': 'SGD', 'momentum': 0.7206165683835364, 'h_flip': 0.7429052973489064, 'rotation': 4}. Best is trial 0 with value: 0.0.\n"
     ]
    },
    {
     "name": "stdout",
     "output_type": "stream",
     "text": [
      "  Validation Accuracy after Epoch 1: 0.0000\n",
      "Trial 1 complete. Best Validation Accuracy: 0.0000\n",
      "\n",
      "Model checkpoint saved to checkpoints/model_trial_1_val_acc_0.0000.pth\n",
      "Best trial: FrozenTrial(number=0, state=TrialState.COMPLETE, values=[0.0], datetime_start=datetime.datetime(2025, 3, 9, 11, 50, 13, 514904), datetime_complete=datetime.datetime(2025, 3, 9, 11, 50, 37, 596469), params={'num_epochs': 1, 'batch_size': 32, 'learning_rate': 0.0012632204925797196, 'optimizer': 'SGD', 'momentum': 0.5259893129532928, 'h_flip': 0.2667636437690398, 'rotation': 18}, user_attrs={}, system_attrs={}, intermediate_values={0: 0.0}, distributions={'num_epochs': IntDistribution(high=1, log=False, low=1, step=1), 'batch_size': CategoricalDistribution(choices=(16, 32, 64)), 'learning_rate': FloatDistribution(high=0.01, log=True, low=0.0001, step=None), 'optimizer': CategoricalDistribution(choices=('Adam', 'SGD', 'RMSprop')), 'momentum': FloatDistribution(high=0.9, log=False, low=0.5, step=None), 'h_flip': FloatDistribution(high=1.0, log=False, low=0.0, step=None), 'rotation': IntDistribution(high=30, log=False, low=0, step=1)}, trial_id=0, value=None)\n",
      "Best hyperparameters: {'num_epochs': 1, 'batch_size': 32, 'learning_rate': 0.0012632204925797196, 'optimizer': 'SGD', 'momentum': 0.5259893129532928, 'h_flip': 0.2667636437690398, 'rotation': 18}\n",
      "Best validation accuracy: 0.0\n"
     ]
    }
   ],
   "source": [
    "study = optuna.create_study(direction=\"maximize\")\n",
    "study.optimize(objective, n_trials=2)\n",
    "\n",
    "print(\"Best trial:\", study.best_trial.number)\n",
    "print(\"Best hyperparameters:\", study.best_params)\n",
    "print(\"Best validation accuracy:\", study.best_value)"
   ]
  },
  {
   "cell_type": "markdown",
   "metadata": {},
   "source": [
    "### Load Checkpoint"
   ]
  },
  {
   "cell_type": "code",
   "execution_count": null,
   "metadata": {},
   "outputs": [
    {
     "data": {
      "text/plain": [
       "<All keys matched successfully>"
      ]
     },
     "execution_count": 9,
     "metadata": {},
     "output_type": "execute_result"
    }
   ],
   "source": [
    "# model = ResNet18().to(device)\n",
    "# # Load the latest checkpoint\n",
    "# checkpoint = torch.load(latest_chk_fn)\n",
    "# model.load_state_dict(checkpoint)"
   ]
  },
  {
   "cell_type": "code",
   "execution_count": null,
   "metadata": {},
   "outputs": [],
   "source": [
    "# from trainer import evaluate_model\n",
    "# evaluate_model(model, valid_loader, device)"
   ]
  },
  {
   "cell_type": "markdown",
   "metadata": {},
   "source": [
    "### Run model on test data"
   ]
  },
  {
   "cell_type": "code",
   "execution_count": null,
   "metadata": {},
   "outputs": [],
   "source": [
    "# Generate submission file with test data\n",
    "test_loader = get_test_dataloader()\n",
    "\n",
    "model.eval()\n",
    "predictions = []\n",
    "\n",
    "with torch.no_grad():\n",
    "    for images, in test_loader:\n",
    "        outputs = model(images) \n",
    "        _, predicted = torch.max(outputs, 1)\n",
    "        predictions.extend(predicted.cpu().numpy())\n",
    "\n",
    "submission = pd.DataFrame({'ID': np.arange(len(predictions)), 'Labels': predictions})\n",
    "submission.to_csv('submission.csv', index=False)\n",
    "print(\"submission file saved.\")"
   ]
  },
  {
   "cell_type": "code",
   "execution_count": 23,
   "metadata": {},
   "outputs": [],
   "source": [
    "# import kaggle\n",
    "# kaggle.api.competition_submit(\n",
    "#     file_name=\"submission.csv\",\n",
    "#     message=\"test\",\n",
    "#     competition=competition_name\n",
    "# )"
   ]
  },
  {
   "cell_type": "code",
   "execution_count": null,
   "metadata": {},
   "outputs": [],
   "source": []
  }
 ],
 "metadata": {
  "accelerator": "GPU",
  "colab": {
   "authorship_tag": "ABX9TyPk8i7jiGjSg0feqDTW0l2u",
   "gpuType": "T4",
   "provenance": []
  },
  "kernelspec": {
   "display_name": ".venv",
   "language": "python",
   "name": "python3"
  },
  "language_info": {
   "codemirror_mode": {
    "name": "ipython",
    "version": 3
   },
   "file_extension": ".py",
   "mimetype": "text/x-python",
   "name": "python",
   "nbconvert_exporter": "python",
   "pygments_lexer": "ipython3",
   "version": "3.9.6"
  }
 },
 "nbformat": 4,
 "nbformat_minor": 4
}
