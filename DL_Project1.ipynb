{
 "cells": [
  {
   "cell_type": "code",
   "execution_count": 1,
   "metadata": {},
   "outputs": [],
   "source": [
    "# import time\n",
    "# time.sleep(5000)"
   ]
  },
  {
   "cell_type": "code",
   "execution_count": 1,
   "metadata": {},
   "outputs": [],
   "source": [
    "competition_name = \"deep-learning-spring-2025-project-1\""
   ]
  },
  {
   "cell_type": "markdown",
   "metadata": {
    "id": "rIugLjz-A2Qd"
   },
   "source": [
    "### Import packages"
   ]
  },
  {
   "cell_type": "code",
   "execution_count": 2,
   "metadata": {
    "id": "7u8LG67I_2rW"
   },
   "outputs": [],
   "source": [
    "import numpy as np\n",
    "import pandas as pd\n",
    "import torch\n",
    "import torch.nn as nn\n",
    "from torchvision import transforms\n",
    "import pickle\n",
    "import os\n",
    "\n",
    "from dataloaders import download_kaggle_dataset, get_train_dataloaders, get_test_dataloader"
   ]
  },
  {
   "cell_type": "markdown",
   "metadata": {},
   "source": [
    "### Load CIFAR-10 dataset"
   ]
  },
  {
   "cell_type": "code",
   "execution_count": 3,
   "metadata": {},
   "outputs": [],
   "source": [
    "# download_kaggle_dataset()"
   ]
  },
  {
   "cell_type": "code",
   "execution_count": 4,
   "metadata": {},
   "outputs": [],
   "source": [
    "# Data augmentation and normalization\n",
    "transform = transforms.Compose([\n",
    "    transforms.ToPILImage(),  # Convert numpy array to PIL Image\n",
    "    transforms.RandomRotation(10),\n",
    "    transforms.ColorJitter(brightness = 0.1,contrast = 0.1,saturation = 0.1),\n",
    "    transforms.RandomHorizontalFlip(p=0.5),\n",
    "    transforms.RandomAdjustSharpness(sharpness_factor = 2,p = 0.2),\n",
    "    transforms.RandomCrop(32, padding=4),\n",
    "    transforms.ToTensor(),\n",
    "    #transforms.Normalize((0.4914, 0.4822, 0.4465), (0.247, 0.243, 0.261)),\n",
    "    transforms.RandomErasing(p=0.2,scale=(0.02, 0.1),value=1.0, inplace=False)\n",
    "])"
   ]
  },
  {
   "cell_type": "code",
   "execution_count": 5,
   "metadata": {},
   "outputs": [
    {
     "name": "stdout",
     "output_type": "stream",
     "text": [
      "Image shape: torch.Size([3, 32, 32])\n",
      "Label: 9\n",
      "Number of training data: 40000\n",
      "Number of validation data: 10000\n"
     ]
    }
   ],
   "source": [
    "batch_size = 256\n",
    "\n",
    "train_loader, valid_loader = get_train_dataloaders(\n",
    "    transform,\n",
    "    subset_percent=1, \n",
    "    train_percent=0.8,\n",
    "    batch_size=batch_size\n",
    ")"
   ]
  },
  {
   "cell_type": "markdown",
   "metadata": {
    "id": "QZJKk7eWkcBh"
   },
   "source": [
    "## Train the model"
   ]
  },
  {
   "cell_type": "markdown",
   "metadata": {
    "id": "f4z7iY1pkk2C"
   },
   "source": [
    "First, configure the device"
   ]
  },
  {
   "cell_type": "code",
   "execution_count": 6,
   "metadata": {
    "id": "e3wMn_41kd5K"
   },
   "outputs": [
    {
     "name": "stdout",
     "output_type": "stream",
     "text": [
      "Using device: cuda\n"
     ]
    }
   ],
   "source": [
    "# Device configuration\n",
    "device = torch.device('cuda' if torch.cuda.is_available() else 'cpu')\n",
    "print(\"Using device:\", device)"
   ]
  },
  {
   "cell_type": "markdown",
   "metadata": {
    "id": "U7xK2W7flOZR"
   },
   "source": [
    "### Set the hyperparameters"
   ]
  },
  {
   "cell_type": "code",
   "execution_count": 7,
   "metadata": {
    "id": "Uu4Mo6lHlX_N"
   },
   "outputs": [],
   "source": [
    "num_classes = 10\n",
    "num_epochs = 40\n",
    "learning_rate = 0.01\n",
    "weight_decay = 0.001\n",
    "momentum = 0.9"
   ]
  },
  {
   "cell_type": "markdown",
   "metadata": {
    "id": "enn3pii4loGT"
   },
   "source": [
    "### Setup model"
   ]
  },
  {
   "cell_type": "code",
   "execution_count": 8,
   "metadata": {},
   "outputs": [],
   "source": [
    "from model import ResNet18"
   ]
  },
  {
   "cell_type": "code",
   "execution_count": 10,
   "metadata": {
    "colab": {
     "base_uri": "https://localhost:8080/"
    },
    "id": "7wByteCjlpir",
    "outputId": "efad8630-a1d1-40ed-f595-07ceb24d26bc"
   },
   "outputs": [
    {
     "name": "stdout",
     "output_type": "stream",
     "text": [
      "157\n",
      "Total Trainable Parameters: 4903242\n"
     ]
    }
   ],
   "source": [
    "model = ResNet18().to(device)\n",
    "# Loss and optimizer\n",
    "criterion = nn.CrossEntropyLoss()\n",
    "optimizer = torch.optim.SGD(model.parameters(), \n",
    "                            lr=learning_rate, \n",
    "                            weight_decay=weight_decay, \n",
    "                            momentum=momentum)\n",
    "\n",
    "# Train the model\n",
    "total_step = len(train_loader)\n",
    "print(total_step)\n",
    "\n",
    "# See the total number of trainable parameters\n",
    "total_params = sum(p.numel() for p in model.parameters() if p.requires_grad)\n",
    "print(f\"Total Trainable Parameters: {total_params}\")"
   ]
  },
  {
   "cell_type": "markdown",
   "metadata": {
    "id": "HMb2yJkzl2WR"
   },
   "source": [
    "### Training"
   ]
  },
  {
   "cell_type": "code",
   "execution_count": 11,
   "metadata": {
    "id": "MCkEmySel304",
    "scrolled": true
   },
   "outputs": [
    {
     "name": "stdout",
     "output_type": "stream",
     "text": [
      "Epoch [1/40], Loss: 2.3902\n",
      "Accuracy of the network on the 5000 validation images: 50.3 %\n",
      "Epoch [2/40], Loss: 1.3660\n",
      "Accuracy of the network on the 5000 validation images: 56.9 %\n",
      "Epoch [3/40], Loss: 1.2717\n",
      "Accuracy of the network on the 5000 validation images: 63.72 %\n",
      "Epoch [4/40], Loss: 0.8305\n",
      "Accuracy of the network on the 5000 validation images: 65.63 %\n",
      "Epoch [5/40], Loss: 0.7951\n",
      "Accuracy of the network on the 5000 validation images: 68.05 %\n",
      "Epoch [6/40], Loss: 0.6168\n",
      "Accuracy of the network on the 5000 validation images: 68.31 %\n",
      "Epoch [7/40], Loss: 0.4294\n",
      "Accuracy of the network on the 5000 validation images: 67.84 %\n",
      "Epoch [8/40], Loss: 0.3282\n",
      "Accuracy of the network on the 5000 validation images: 67.97 %\n",
      "Epoch [9/40], Loss: 0.2493\n",
      "Accuracy of the network on the 5000 validation images: 69.91 %\n",
      "Epoch [10/40], Loss: 0.1405\n",
      "Accuracy of the network on the 5000 validation images: 69.82 %\n",
      "Epoch [11/40], Loss: 0.0758\n",
      "Accuracy of the network on the 5000 validation images: 69.88 %\n",
      "Epoch [12/40], Loss: 0.0485\n",
      "Accuracy of the network on the 5000 validation images: 71.36 %\n",
      "Epoch [13/40], Loss: 0.0255\n",
      "Accuracy of the network on the 5000 validation images: 72.43 %\n",
      "Epoch [14/40], Loss: 0.0052\n",
      "Accuracy of the network on the 5000 validation images: 72.89 %\n",
      "Epoch [15/40], Loss: 0.0028\n",
      "Accuracy of the network on the 5000 validation images: 72.89 %\n",
      "Epoch [16/40], Loss: 0.0018\n",
      "Accuracy of the network on the 5000 validation images: 72.88 %\n",
      "Epoch [17/40], Loss: 0.0022\n",
      "Accuracy of the network on the 5000 validation images: 73.03 %\n",
      "Epoch [18/40], Loss: 0.0022\n",
      "Accuracy of the network on the 5000 validation images: 72.91 %\n",
      "Epoch [19/40], Loss: 0.0021\n",
      "Accuracy of the network on the 5000 validation images: 72.88 %\n",
      "Epoch [20/40], Loss: 0.0022\n",
      "Accuracy of the network on the 5000 validation images: 72.94 %\n",
      "Epoch [21/40], Loss: 0.0023\n",
      "Accuracy of the network on the 5000 validation images: 73.03 %\n",
      "Epoch [22/40], Loss: 0.0021\n",
      "Accuracy of the network on the 5000 validation images: 72.95 %\n",
      "Epoch [23/40], Loss: 0.0020\n",
      "Accuracy of the network on the 5000 validation images: 72.91 %\n",
      "Epoch [24/40], Loss: 0.0022\n",
      "Accuracy of the network on the 5000 validation images: 72.83 %\n",
      "Epoch [25/40], Loss: 0.0017\n",
      "Accuracy of the network on the 5000 validation images: 72.8 %\n",
      "Epoch [26/40], Loss: 0.0020\n",
      "Accuracy of the network on the 5000 validation images: 72.86 %\n",
      "Epoch [27/40], Loss: 0.0019\n",
      "Accuracy of the network on the 5000 validation images: 72.74 %\n",
      "Epoch [28/40], Loss: 0.0020\n",
      "Accuracy of the network on the 5000 validation images: 72.72 %\n",
      "Epoch [29/40], Loss: 0.0020\n",
      "Accuracy of the network on the 5000 validation images: 72.86 %\n",
      "Epoch [30/40], Loss: 0.0022\n",
      "Accuracy of the network on the 5000 validation images: 72.67 %\n",
      "Epoch [31/40], Loss: 0.0024\n",
      "Accuracy of the network on the 5000 validation images: 72.6 %\n",
      "Epoch [32/40], Loss: 0.0022\n",
      "Accuracy of the network on the 5000 validation images: 72.71 %\n",
      "Epoch [33/40], Loss: 0.0023\n",
      "Accuracy of the network on the 5000 validation images: 72.5 %\n",
      "Epoch [34/40], Loss: 0.0025\n",
      "Accuracy of the network on the 5000 validation images: 72.45 %\n",
      "Epoch [35/40], Loss: 0.0023\n",
      "Accuracy of the network on the 5000 validation images: 72.56 %\n",
      "Epoch [36/40], Loss: 0.0020\n",
      "Accuracy of the network on the 5000 validation images: 72.58 %\n",
      "Epoch [37/40], Loss: 0.0020\n",
      "Accuracy of the network on the 5000 validation images: 72.47 %\n",
      "Epoch [38/40], Loss: 0.0024\n",
      "Accuracy of the network on the 5000 validation images: 72.32 %\n",
      "Epoch [39/40], Loss: 0.0020\n",
      "Accuracy of the network on the 5000 validation images: 72.44 %\n",
      "Epoch [40/40], Loss: 0.0021\n",
      "Accuracy of the network on the 5000 validation images: 72.48 %\n"
     ]
    }
   ],
   "source": [
    "import gc\n",
    "\n",
    "for epoch in range(num_epochs):\n",
    "    for i, (images, labels) in enumerate(train_loader):\n",
    "        # Move tensors to the configured device\n",
    "        images = images.to(device)\n",
    "        labels = labels.to(device)\n",
    "        \n",
    "        # Forward pass\n",
    "        outputs = model(images)\n",
    "        loss = criterion(outputs, labels)\n",
    "        \n",
    "        # Backward and optimize\n",
    "        optimizer.zero_grad()\n",
    "        loss.backward()\n",
    "        optimizer.step()\n",
    "        del images, labels, outputs\n",
    "        torch.cuda.empty_cache()\n",
    "        gc.collect()\n",
    "\n",
    "        if i % 1000 == 0:\n",
    "            print ('Epoch [{}/{}], Loss: {:.4f}'\n",
    "                            .format(epoch+1, num_epochs, loss.item()))\n",
    "    \n",
    "    # Validation\n",
    "    with torch.no_grad():\n",
    "      correct = 0\n",
    "      total = 0\n",
    "      for images, labels in valid_loader:\n",
    "        images = images.to(device)\n",
    "        labels = labels.to(device)\n",
    "        outputs = model(images)\n",
    "        _, predicted = torch.max(outputs.data, 1)\n",
    "        total += labels.size(0)\n",
    "        correct += (predicted == labels).sum().item()\n",
    "        del images, labels, outputs\n",
    "    \n",
    "    print('Accuracy of the network on the {} validation images: {} %'.format(5000, 100 * correct / total))"
   ]
  },
  {
   "cell_type": "markdown",
   "metadata": {},
   "source": [
    "### Checkpoint model"
   ]
  },
  {
   "cell_type": "code",
   "execution_count": 12,
   "metadata": {},
   "outputs": [],
   "source": [
    "from datetime import datetime"
   ]
  },
  {
   "cell_type": "code",
   "execution_count": 13,
   "metadata": {},
   "outputs": [],
   "source": [
    "formatted_timestamp = datetime.now().strftime(\"%Y_%m_%d__%H_%M_%S\")\n",
    "torch.save(model.state_dict(), f'checkpoints/model_{formatted_timestamp}.pth')"
   ]
  },
  {
   "cell_type": "markdown",
   "metadata": {},
   "source": [
    "### Load Checkpoint"
   ]
  },
  {
   "cell_type": "code",
   "execution_count": 15,
   "metadata": {},
   "outputs": [],
   "source": [
    "from model import ResNet18\n",
    "model = ResNet18().to(device)"
   ]
  },
  {
   "cell_type": "code",
   "execution_count": 16,
   "metadata": {},
   "outputs": [
    {
     "data": {
      "text/plain": [
       "<All keys matched successfully>"
      ]
     },
     "execution_count": 16,
     "metadata": {},
     "output_type": "execute_result"
    }
   ],
   "source": [
    "# Load the best checkpoint\n",
    "checkpoint = torch.load('checkpoints/model_2025_03_07__23_21_39.pth')\n",
    "model.load_state_dict(checkpoint)"
   ]
  },
  {
   "cell_type": "code",
   "execution_count": 17,
   "metadata": {},
   "outputs": [
    {
     "name": "stdout",
     "output_type": "stream",
     "text": [
      "Accuracy of the network on the 5000 validation images: 72.48 %\n"
     ]
    }
   ],
   "source": [
    "# Validation\n",
    "with torch.no_grad():\n",
    "  correct = 0\n",
    "  total = 0\n",
    "  for images, labels in valid_loader:\n",
    "    images = images.to(device)\n",
    "    labels = labels.to(device)\n",
    "    outputs = model(images)\n",
    "    _, predicted = torch.max(outputs.data, 1)\n",
    "    total += labels.size(0)\n",
    "    correct += (predicted == labels).sum().item()\n",
    "    del images, labels, outputs\n",
    "\n",
    "print('Accuracy of the network on the {} validation images: {} %'.format(5000, 100 * correct / total))"
   ]
  },
  {
   "cell_type": "markdown",
   "metadata": {
    "id": "AyF2bHFeIqcl"
   },
   "source": [
    "### Testing"
   ]
  },
  {
   "cell_type": "code",
   "execution_count": 18,
   "metadata": {},
   "outputs": [],
   "source": [
    "test_loader = get_test_dataloader(transform)"
   ]
  },
  {
   "cell_type": "code",
   "execution_count": 19,
   "metadata": {},
   "outputs": [
    {
     "name": "stdout",
     "output_type": "stream",
     "text": [
      "Submission file saved.\n"
     ]
    }
   ],
   "source": [
    "# Generate submission file\n",
    "model.eval()\n",
    "predictions = []\n",
    "with torch.no_grad():\n",
    "    for images in test_loader:\n",
    "        images = images.to(device) \n",
    "        outputs = model(images) \n",
    "        _, predicted = torch.max(outputs, 1)\n",
    "        predictions.extend(predicted.cpu().numpy())\n",
    "\n",
    "submission = pd.DataFrame({'ID': np.arange(len(predictions)), 'Labels': predictions})\n",
    "submission.to_csv('submission.csv', index=False)\n",
    "print(\"Submission file saved.\")"
   ]
  },
  {
   "cell_type": "code",
   "execution_count": 23,
   "metadata": {},
   "outputs": [],
   "source": [
    "# import kaggle\n",
    "# kaggle.api.competition_submit(\n",
    "#     file_name=\"submission.csv\",\n",
    "#     message=\"test\",\n",
    "#     competition=competition_name\n",
    "# )"
   ]
  },
  {
   "cell_type": "code",
   "execution_count": null,
   "metadata": {},
   "outputs": [],
   "source": []
  }
 ],
 "metadata": {
  "accelerator": "GPU",
  "colab": {
   "authorship_tag": "ABX9TyPk8i7jiGjSg0feqDTW0l2u",
   "gpuType": "T4",
   "provenance": []
  },
  "kernelspec": {
   "display_name": "Python 3 (ipykernel)",
   "language": "python",
   "name": "python3"
  },
  "language_info": {
   "codemirror_mode": {
    "name": "ipython",
    "version": 3
   },
   "file_extension": ".py",
   "mimetype": "text/x-python",
   "name": "python",
   "nbconvert_exporter": "python",
   "pygments_lexer": "ipython3",
   "version": "3.9.18"
  }
 },
 "nbformat": 4,
 "nbformat_minor": 4
}
