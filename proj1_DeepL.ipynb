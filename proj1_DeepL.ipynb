{
  "cells": [
    {
      "cell_type": "code",
      "execution_count": 2,
      "metadata": {
        "colab": {
          "base_uri": "https://localhost:8080/",
          "height": 90
        },
        "id": "eo-OBrlmBzWm",
        "outputId": "bca81404-3566-46c7-ff41-98e784b65117"
      },
      "outputs": [
        {
          "ename": "ModuleNotFoundError",
          "evalue": "No module named 'google'",
          "output_type": "error",
          "traceback": [
            "\u001b[0;31m---------------------------------------------------------------------------\u001b[0m",
            "\u001b[0;31mModuleNotFoundError\u001b[0m                       Traceback (most recent call last)",
            "Cell \u001b[0;32mIn[2], line 1\u001b[0m\n\u001b[0;32m----> 1\u001b[0m \u001b[38;5;28;01mfrom\u001b[39;00m \u001b[38;5;21;01mgoogle\u001b[39;00m\u001b[38;5;21;01m.\u001b[39;00m\u001b[38;5;21;01mcolab\u001b[39;00m \u001b[38;5;28;01mimport\u001b[39;00m files\n\u001b[1;32m      2\u001b[0m files\u001b[38;5;241m.\u001b[39mupload()\n",
            "\u001b[0;31mModuleNotFoundError\u001b[0m: No module named 'google'"
          ]
        }
      ],
      "source": [
        "from google.colab import files\n",
        "files.upload()"
      ]
    },
    {
      "cell_type": "code",
      "execution_count": null,
      "metadata": {
        "id": "kQIthDh1DiLu"
      },
      "outputs": [],
      "source": [
        "!mkdir -p ~/.kaggle\n",
        "!cp kaggle.json ~/.kaggle/"
      ]
    },
    {
      "cell_type": "code",
      "execution_count": null,
      "metadata": {
        "id": "yWh5Hu0IDjJO"
      },
      "outputs": [],
      "source": [
        "!chmod 600 ~/.kaggle/kaggle.json"
      ]
    },
    {
      "cell_type": "code",
      "execution_count": null,
      "metadata": {
        "colab": {
          "base_uri": "https://localhost:8080/"
        },
        "id": "WcwsZvbcDkyH",
        "outputId": "2e8d3349-bc7e-4c69-edc6-dde386abd733"
      },
      "outputs": [
        {
          "name": "stdout",
          "output_type": "stream",
          "text": [
            "Requirement already satisfied: kaggle in /usr/local/lib/python3.11/dist-packages (1.6.17)\n",
            "Requirement already satisfied: six>=1.10 in /usr/local/lib/python3.11/dist-packages (from kaggle) (1.17.0)\n",
            "Requirement already satisfied: certifi>=2023.7.22 in /usr/local/lib/python3.11/dist-packages (from kaggle) (2025.1.31)\n",
            "Requirement already satisfied: python-dateutil in /usr/local/lib/python3.11/dist-packages (from kaggle) (2.8.2)\n",
            "Requirement already satisfied: requests in /usr/local/lib/python3.11/dist-packages (from kaggle) (2.32.3)\n",
            "Requirement already satisfied: tqdm in /usr/local/lib/python3.11/dist-packages (from kaggle) (4.67.1)\n",
            "Requirement already satisfied: python-slugify in /usr/local/lib/python3.11/dist-packages (from kaggle) (8.0.4)\n",
            "Requirement already satisfied: urllib3 in /usr/local/lib/python3.11/dist-packages (from kaggle) (2.3.0)\n",
            "Requirement already satisfied: bleach in /usr/local/lib/python3.11/dist-packages (from kaggle) (6.2.0)\n",
            "Requirement already satisfied: webencodings in /usr/local/lib/python3.11/dist-packages (from bleach->kaggle) (0.5.1)\n",
            "Requirement already satisfied: text-unidecode>=1.3 in /usr/local/lib/python3.11/dist-packages (from python-slugify->kaggle) (1.3)\n",
            "Requirement already satisfied: charset-normalizer<4,>=2 in /usr/local/lib/python3.11/dist-packages (from requests->kaggle) (3.4.1)\n",
            "Requirement already satisfied: idna<4,>=2.5 in /usr/local/lib/python3.11/dist-packages (from requests->kaggle) (3.10)\n"
          ]
        }
      ],
      "source": [
        "!pip install kaggle"
      ]
    },
    {
      "cell_type": "code",
      "execution_count": null,
      "metadata": {
        "colab": {
          "base_uri": "https://localhost:8080/"
        },
        "id": "-OL01ITBDv3K",
        "outputId": "d9a4a664-42db-4a15-de9f-ff1b482dc669"
      },
      "outputs": [
        {
          "name": "stdout",
          "output_type": "stream",
          "text": [
            "Downloading deep-learning-spring-2025-project-1.zip to /content\n",
            " 98% 185M/189M [00:06<00:00, 25.2MB/s]\n",
            "100% 189M/189M [00:06<00:00, 29.1MB/s]\n"
          ]
        }
      ],
      "source": [
        "!kaggle competitions download -c deep-learning-spring-2025-project-1"
      ]
    },
    {
      "cell_type": "code",
      "execution_count": null,
      "metadata": {
        "colab": {
          "base_uri": "https://localhost:8080/"
        },
        "id": "UCF9BVYID01u",
        "outputId": "ba309148-3542-4c15-e825-cee452099380"
      },
      "outputs": [
        {
          "name": "stdout",
          "output_type": "stream",
          "text": [
            "Archive:  deep-learning-spring-2025-project-1.zip\n",
            "  inflating: cifar-10-python/cifar-10-batches-py/batches.meta  \n",
            "  inflating: cifar-10-python/cifar-10-batches-py/data_batch_1  \n",
            "  inflating: cifar-10-python/cifar-10-batches-py/data_batch_2  \n",
            "  inflating: cifar-10-python/cifar-10-batches-py/data_batch_3  \n",
            "  inflating: cifar-10-python/cifar-10-batches-py/data_batch_4  \n",
            "  inflating: cifar-10-python/cifar-10-batches-py/data_batch_5  \n",
            "  inflating: cifar-10-python/cifar-10-batches-py/readme.html  \n",
            "  inflating: cifar-10-python/cifar-10-batches-py/test_batch  \n",
            "  inflating: cifar_test_nolabel.pkl  \n"
          ]
        }
      ],
      "source": [
        "!unzip deep-learning-spring-2025-project-1.zip"
      ]
    },
    {
      "cell_type": "code",
      "execution_count": null,
      "metadata": {
        "id": "tAgeqN90EBdS"
      },
      "outputs": [],
      "source": [
        "!unzip -q deep-learning-spring-2025-project-1.zip -d /content/cifar_data"
      ]
    },
    {
      "cell_type": "code",
      "execution_count": null,
      "metadata": {
        "colab": {
          "base_uri": "https://localhost:8080/"
        },
        "id": "TkS8TXXfEX8k",
        "outputId": "1afdd9a6-9ac3-4069-aa7a-80801f28788a"
      },
      "outputs": [
        {
          "name": "stdout",
          "output_type": "stream",
          "text": [
            "cifar-10-python  cifar_test_nolabel.pkl\n",
            "cifar-10-batches-py\n",
            "batches.meta  data_batch_2  data_batch_4  readme.html\n",
            "data_batch_1  data_batch_3  data_batch_5  test_batch\n"
          ]
        }
      ],
      "source": [
        "!ls /content/cifar_data\n",
        "!ls /content/cifar_data/cifar-10-python\n",
        "!ls /content/cifar_data/cifar-10-python/cifar-10-batches-py"
      ]
    },
    {
      "cell_type": "code",
      "execution_count": null,
      "metadata": {
        "colab": {
          "base_uri": "https://localhost:8080/"
        },
        "id": "8gBabWUWD7rW",
        "outputId": "0ba89e71-ed5b-48e6-a5dc-701a075e772b"
      },
      "outputs": [
        {
          "name": "stdout",
          "output_type": "stream",
          "text": [
            "images shape: (10000, 3072)\n",
            "number of labels: 10000\n",
            "Mean pixel value: 121.04103444010417\n",
            "Std pixel value: 64.39060047846118\n",
            "Counter({2: 1032, 6: 1030, 8: 1025, 3: 1016, 0: 1005, 7: 1001, 4: 999, 9: 981, 1: 974, 5: 937})\n"
          ]
        }
      ],
      "source": [
        "import pickle\n",
        "import numpy as np\n",
        "from collections import Counter\n",
        "\n",
        "def unpickle(file):\n",
        "    with open(file, 'rb') as fo:\n",
        "        dict_ = pickle.load(fo, encoding='bytes')\n",
        "    return dict_\n",
        "\n",
        "data_dict = unpickle(\"/content/cifar_data/cifar-10-python/cifar-10-batches-py/data_batch_1\")\n",
        "images = data_dict[b'data']\n",
        "labels = data_dict[b'labels']\n",
        "\n",
        "print(\"images shape:\", images.shape)  # (10000, 3072)\n",
        "print(\"number of labels:\", len(labels))\n",
        "\n",
        "print(\"Mean pixel value:\", images.mean())\n",
        "print(\"Std pixel value:\", images.std())\n",
        "\n",
        "label_counts = Counter(labels)\n",
        "print(label_counts)  # how many samples per class"
      ]
    },
    {
      "cell_type": "code",
      "execution_count": null,
      "metadata": {
        "colab": {
          "base_uri": "https://localhost:8080/",
          "height": 452
        },
        "id": "drhNQeUGFXGB",
        "outputId": "a47795a6-063f-4ab2-a19d-e043122b47c0"
      },
      "outputs": [
        {
          "data": {
            "image/png": "[encoded data removed]",
            "text/plain": [
              "<Figure size 640x480 with 1 Axes>"
            ]
          },
          "metadata": {},
          "output_type": "display_data"
        }
      ],
      "source": [
        "import matplotlib.pyplot as plt\n",
        "\n",
        "# first image\n",
        "img = images[0]\n",
        "img = img.reshape(3, 32, 32).transpose(1, 2, 0)\n",
        "\n",
        "# convert from [0,255] to [0,1] for plotting\n",
        "img = img / 255.0\n",
        "\n",
        "plt.imshow(img)\n",
        "plt.title(f\"Label: {labels[0]}\")\n",
        "plt.show()"
      ]
    },
    {
      "cell_type": "code",
      "execution_count": null,
      "metadata": {
        "colab": {
          "base_uri": "https://localhost:8080/",
          "height": 1000
        },
        "id": "_3XDHCibFtos",
        "outputId": "3f7ae681-3eb7-42fd-a85f-720845ca8a66"
      },
      "outputs": [
        {
          "name": "stdout",
          "output_type": "stream",
          "text": [
            "['airplane', 'automobile', 'bird', 'cat', 'deer', 'dog', 'frog', 'horse', 'ship', 'truck']\n"
          ]
        },
        {
          "data": {
            "image/png": "[encoded data removed]",
            "text/plain": [
              "<Figure size 640x480 with 1 Axes>"
            ]
          },
          "metadata": {},
          "output_type": "display_data"
        },
        {
          "data": {
            "image/png": "[encoded data removed]",
            "text/plain": [
              "<Figure size 640x480 with 1 Axes>"
            ]
          },
          "metadata": {},
          "output_type": "display_data"
        },
        {
          "data": {
            "image/png": "[encoded data removed]",
            "text/plain": [
              "<Figure size 640x480 with 1 Axes>"
            ]
          },
          "metadata": {},
          "output_type": "display_data"
        },
        {
          "data": {
            "image/png": "[encoded data removed]",
            "text/plain": [
              "<Figure size 640x480 with 1 Axes>"
            ]
          },
          "metadata": {},
          "output_type": "display_data"
        },
        {
          "data": {
            "image/png": "[encoded data removed]",
            "text/plain": [
              "<Figure size 640x480 with 1 Axes>"
            ]
          },
          "metadata": {},
          "output_type": "display_data"
        }
      ],
      "source": [
        "import matplotlib.pyplot as plt\n",
        "meta_dict = unpickle(\"/content/cifar_data/cifar-10-python/cifar-10-batches-py/batches.meta\")\n",
        "label_names = meta_dict[b'label_names']\n",
        "label_names = [name.decode('utf-8') for name in label_names]\n",
        "\n",
        "print(label_names)\n",
        "\n",
        "for i in range(5):\n",
        "    img = images[i].reshape(3, 32, 32).transpose(1, 2, 0)\n",
        "    img = img / 255.0\n",
        "\n",
        "    plt.imshow(img)\n",
        "    plt.title(f\"Label: {labels[i]} -> {label_names[labels[i]]}\")\n",
        "    plt.show()\n"
      ]
    },
    {
      "cell_type": "code",
      "execution_count": null,
      "metadata": {
        "id": "mjxlykSPJ_-x"
      },
      "outputs": [],
      "source": [
        "import torch\n",
        "import torch.nn as nn\n",
        "import torch.nn.functional as F\n",
        "\n",
        "##########################################################\n",
        "# Basic Residual Block\n",
        "##########################################################\n",
        "class BasicBlock(nn.Module):\n",
        "    expansion = 1\n",
        "\n",
        "    def __init__(self, in_planes, planes, stride=1):\n",
        "        super(BasicBlock, self).__init__()\n",
        "        self.conv1 = nn.Conv2d(in_planes, planes, kernel_size=3,\n",
        "                               stride=stride, padding=1, bias=False)\n",
        "        self.bn1 = nn.BatchNorm2d(planes)\n",
        "        self.conv2 = nn.Conv2d(planes, planes, kernel_size=3,\n",
        "                               stride=1, padding=1, bias=False)\n",
        "        self.bn2 = nn.BatchNorm2d(planes)\n",
        "\n",
        "        self.shortcut = nn.Sequential()\n",
        "        if stride != 1 or in_planes != planes * self.expansion:\n",
        "            self.shortcut = nn.Sequential(\n",
        "                nn.Conv2d(in_planes, planes * self.expansion,\n",
        "                          kernel_size=1, stride=stride, bias=False),\n",
        "                nn.BatchNorm2d(planes * self.expansion)\n",
        "            )\n",
        "\n",
        "    def forward(self, x):\n",
        "        out = F.relu(self.bn1(self.conv1(x)))\n",
        "        out = self.bn2(self.conv2(out))\n",
        "        out += self.shortcut(x)\n",
        "        out = F.relu(out)\n",
        "        return out\n",
        "\n",
        "##########################################################\n",
        "# A \"SmallResNet\" Architecture\n",
        "##########################################################\n",
        "class SmallResNet(nn.Module):\n",
        "    def __init__(self, block=BasicBlock, num_blocks=[2,2,2,2],\n",
        "                 num_classes=10, base_channels=32):\n",
        "        \"\"\"\n",
        "        Args:\n",
        "            block:          Residual block type (BasicBlock).\n",
        "            num_blocks:     List of 4 integers, # of blocks in each layer.\n",
        "            num_classes:    Number of output classes (10 for CIFAR-10).\n",
        "            base_channels:  # of channels in first layer. Adjust to control total params.\n",
        "        \"\"\"\n",
        "        super(SmallResNet, self).__init__()\n",
        "        self.in_planes = base_channels\n",
        "\n",
        "        # Initial conv layer\n",
        "        self.conv1 = nn.Conv2d(3, base_channels, kernel_size=3,\n",
        "                               stride=1, padding=1, bias=False)\n",
        "        self.bn1 = nn.BatchNorm2d(base_channels)\n",
        "\n",
        "        # Create 4 stages (layers)\n",
        "        self.layer1 = self._make_layer(block, base_channels,   num_blocks[0], stride=1)\n",
        "        self.layer2 = self._make_layer(block, base_channels*2, num_blocks[1], stride=2)\n",
        "        self.layer3 = self._make_layer(block, base_channels*4, num_blocks[2], stride=2)\n",
        "        self.layer4 = self._make_layer(block, base_channels*8, num_blocks[3], stride=2)\n",
        "\n",
        "        # Global average pooling and linear layer\n",
        "        self.linear = nn.Linear(base_channels*8*block.expansion, num_classes)\n",
        "\n",
        "    def _make_layer(self, block, planes, num_blocks, stride):\n",
        "        strides = [stride] + [1]*(num_blocks-1)\n",
        "        layers = []\n",
        "        for s in strides:\n",
        "            layers.append(block(self.in_planes, planes, s))\n",
        "            self.in_planes = planes * block.expansion\n",
        "        return nn.Sequential(*layers)\n",
        "\n",
        "    def forward(self, x):\n",
        "        out = F.relu(self.bn1(self.conv1(x)))\n",
        "        out = self.layer1(out)\n",
        "        out = self.layer2(out)\n",
        "        out = self.layer3(out)\n",
        "        out = self.layer4(out)\n",
        "        # Global Average Pooling\n",
        "        out = F.adaptive_avg_pool2d(out, 1)\n",
        "        out = out.view(out.size(0), -1)\n",
        "        out = self.linear(out)\n",
        "        return out"
      ]
    },
    {
      "cell_type": "code",
      "execution_count": null,
      "metadata": {
        "colab": {
          "base_uri": "https://localhost:8080/"
        },
        "id": "Zv2D0C0kLOIc",
        "outputId": "a18c83ec-2db8-4a88-c3fa-bc14c4d76666"
      },
      "outputs": [
        {
          "name": "stdout",
          "output_type": "stream",
          "text": [
            "----------------------------------------------------------------\n",
            "        Layer (type)               Output Shape         Param #\n",
            "================================================================\n",
            "            Conv2d-1           [-1, 32, 32, 32]             864\n",
            "       BatchNorm2d-2           [-1, 32, 32, 32]              64\n",
            "            Conv2d-3           [-1, 32, 32, 32]           9,216\n",
            "       BatchNorm2d-4           [-1, 32, 32, 32]              64\n",
            "            Conv2d-5           [-1, 32, 32, 32]           9,216\n",
            "       BatchNorm2d-6           [-1, 32, 32, 32]              64\n",
            "        BasicBlock-7           [-1, 32, 32, 32]               0\n",
            "            Conv2d-8           [-1, 32, 32, 32]           9,216\n",
            "       BatchNorm2d-9           [-1, 32, 32, 32]              64\n",
            "           Conv2d-10           [-1, 32, 32, 32]           9,216\n",
            "      BatchNorm2d-11           [-1, 32, 32, 32]              64\n",
            "       BasicBlock-12           [-1, 32, 32, 32]               0\n",
            "           Conv2d-13           [-1, 64, 16, 16]          18,432\n",
            "      BatchNorm2d-14           [-1, 64, 16, 16]             128\n",
            "           Conv2d-15           [-1, 64, 16, 16]          36,864\n",
            "      BatchNorm2d-16           [-1, 64, 16, 16]             128\n",
            "           Conv2d-17           [-1, 64, 16, 16]           2,048\n",
            "      BatchNorm2d-18           [-1, 64, 16, 16]             128\n",
            "       BasicBlock-19           [-1, 64, 16, 16]               0\n",
            "           Conv2d-20           [-1, 64, 16, 16]          36,864\n",
            "      BatchNorm2d-21           [-1, 64, 16, 16]             128\n",
            "           Conv2d-22           [-1, 64, 16, 16]          36,864\n",
            "      BatchNorm2d-23           [-1, 64, 16, 16]             128\n",
            "       BasicBlock-24           [-1, 64, 16, 16]               0\n",
            "           Conv2d-25            [-1, 128, 8, 8]          73,728\n",
            "      BatchNorm2d-26            [-1, 128, 8, 8]             256\n",
            "           Conv2d-27            [-1, 128, 8, 8]         147,456\n",
            "      BatchNorm2d-28            [-1, 128, 8, 8]             256\n",
            "           Conv2d-29            [-1, 128, 8, 8]           8,192\n",
            "      BatchNorm2d-30            [-1, 128, 8, 8]             256\n",
            "       BasicBlock-31            [-1, 128, 8, 8]               0\n",
            "           Conv2d-32            [-1, 128, 8, 8]         147,456\n",
            "      BatchNorm2d-33            [-1, 128, 8, 8]             256\n",
            "           Conv2d-34            [-1, 128, 8, 8]         147,456\n",
            "      BatchNorm2d-35            [-1, 128, 8, 8]             256\n",
            "       BasicBlock-36            [-1, 128, 8, 8]               0\n",
            "           Conv2d-37            [-1, 256, 4, 4]         294,912\n",
            "      BatchNorm2d-38            [-1, 256, 4, 4]             512\n",
            "           Conv2d-39            [-1, 256, 4, 4]         589,824\n",
            "      BatchNorm2d-40            [-1, 256, 4, 4]             512\n",
            "           Conv2d-41            [-1, 256, 4, 4]          32,768\n",
            "      BatchNorm2d-42            [-1, 256, 4, 4]             512\n",
            "       BasicBlock-43            [-1, 256, 4, 4]               0\n",
            "           Conv2d-44            [-1, 256, 4, 4]         589,824\n",
            "      BatchNorm2d-45            [-1, 256, 4, 4]             512\n",
            "           Conv2d-46            [-1, 256, 4, 4]         589,824\n",
            "      BatchNorm2d-47            [-1, 256, 4, 4]             512\n",
            "       BasicBlock-48            [-1, 256, 4, 4]               0\n",
            "           Linear-49                   [-1, 10]           2,570\n",
            "================================================================\n",
            "Total params: 2,797,610\n",
            "Trainable params: 2,797,610\n",
            "Non-trainable params: 0\n",
            "----------------------------------------------------------------\n",
            "Input size (MB): 0.01\n",
            "Forward/backward pass size (MB): 5.63\n",
            "Params size (MB): 10.67\n",
            "Estimated Total Size (MB): 16.31\n",
            "----------------------------------------------------------------\n"
          ]
        }
      ],
      "source": [
        "model = SmallResNet(base_channels=32, num_blocks=[2,2,2,2]).to('cuda')\n",
        "summary(model, (3, 32, 32), device='cuda')"
      ]
    },
    {
      "cell_type": "markdown",
      "metadata": {
        "id": "munlodUGW-A4"
      },
      "source": [
        "Notes:\n",
        "- conv2d-# : # represents the #'d module in the network based on the librarys internal indexing\n",
        "- BatchNorm2d-2 = 2D batch normalization layer\n",
        "- Output shape starts at [-1,32 ,32, 32] and goes to [-1, 256,4,4] => [-1, 10]\n",
        "  - -1 is the batch dimension\n",
        "  - 32 is the # of output channels which increases by double to 256\n",
        "  - 32, 32 is the spatial resolution (height, width), this changes to (16, 16), (8, 8), (4,4) as seen in the convolution demo, also since stride = 2 convolutions bc its halves spatial dimensions\n",
        "- parameter count = (in channels) * (out channels) * (Kernel height) * (kernel width) + (out_channels if bias=True)\n",
        "- Basic Block: residual block contains two conv layers + two batchnorm layeres + optional projection if stride/channel differs\n",
        "\n",
        "- initial convolution layer is set to 3x3 where stride=1 for CIFAR-10 since input images are 32x32, the one provided in the github repo is 7x7 with a stride=2 for ImageNet\n",
        "Overall ResNet structure: includes four main structures where each stage has 1/2 basic blocks and the convolutions in each block double the channels (32->64->128->256) and reduce spatial dimensions by half since stride=2 is used. Setting base channels to 32 balances the capacity and constraints (but can be tweaked with different values).\n",
        "\n",
        "- possible changes:\n",
        "  * experiment with diff # of blocks e.g num_blocks = [3,3,3,3]\n",
        "  * different base_channel start value instead of 32\n",
        "  * maybe stronger data augmentation, label smoothing, or advanced optimizers\n",
        "  * separate validation set / cross-validation to confirm hyperparameter choices"
      ]
    },
    {
      "cell_type": "code",
      "execution_count": null,
      "metadata": {
        "colab": {
          "base_uri": "https://localhost:8080/"
        },
        "id": "NVxyfhpWLX5Z",
        "outputId": "988afb18-3fc5-4a62-b050-837a4f894e5e"
      },
      "outputs": [
        {
          "name": "stdout",
          "output_type": "stream",
          "text": [
            "Files already downloaded and verified\n",
            "Files already downloaded and verified\n",
            "Epoch [1/50], Loss: 1.674, Train Acc: 38.05%, Test Acc: 43.39%\n",
            "Epoch [2/50], Loss: 1.205, Train Acc: 56.40%, Test Acc: 61.53%\n",
            "Epoch [3/50], Loss: 0.914, Train Acc: 67.65%, Test Acc: 69.38%\n",
            "Epoch [4/50], Loss: 0.757, Train Acc: 73.37%, Test Acc: 74.17%\n",
            "Epoch [5/50], Loss: 0.667, Train Acc: 76.84%, Test Acc: 75.34%\n",
            "Epoch [6/50], Loss: 0.610, Train Acc: 78.93%, Test Acc: 75.88%\n",
            "Epoch [7/50], Loss: 0.578, Train Acc: 80.02%, Test Acc: 77.91%\n",
            "Epoch [8/50], Loss: 0.549, Train Acc: 81.06%, Test Acc: 78.58%\n",
            "Epoch [9/50], Loss: 0.528, Train Acc: 82.08%, Test Acc: 76.68%\n",
            "Epoch [10/50], Loss: 0.515, Train Acc: 82.40%, Test Acc: 79.24%\n",
            "Epoch [11/50], Loss: 0.500, Train Acc: 82.69%, Test Acc: 79.64%\n",
            "Epoch [12/50], Loss: 0.491, Train Acc: 83.09%, Test Acc: 81.79%\n",
            "Epoch [13/50], Loss: 0.482, Train Acc: 83.52%, Test Acc: 79.66%\n",
            "Epoch [14/50], Loss: 0.468, Train Acc: 83.87%, Test Acc: 81.49%\n",
            "Epoch [15/50], Loss: 0.458, Train Acc: 84.20%, Test Acc: 77.66%\n",
            "Epoch [16/50], Loss: 0.455, Train Acc: 84.42%, Test Acc: 76.95%\n",
            "Epoch [17/50], Loss: 0.446, Train Acc: 84.71%, Test Acc: 77.93%\n",
            "Epoch [18/50], Loss: 0.445, Train Acc: 84.66%, Test Acc: 78.36%\n",
            "Epoch [19/50], Loss: 0.440, Train Acc: 84.88%, Test Acc: 78.82%\n",
            "Epoch [20/50], Loss: 0.428, Train Acc: 85.34%, Test Acc: 79.37%\n",
            "Epoch [21/50], Loss: 0.423, Train Acc: 85.56%, Test Acc: 71.67%\n",
            "Epoch [22/50], Loss: 0.427, Train Acc: 85.28%, Test Acc: 79.35%\n",
            "Epoch [23/50], Loss: 0.421, Train Acc: 85.52%, Test Acc: 78.81%\n",
            "Epoch [24/50], Loss: 0.422, Train Acc: 85.61%, Test Acc: 79.31%\n",
            "Epoch [25/50], Loss: 0.415, Train Acc: 85.79%, Test Acc: 80.38%\n",
            "Epoch [26/50], Loss: 0.262, Train Acc: 91.12%, Test Acc: 90.44%\n",
            "Epoch [27/50], Loss: 0.209, Train Acc: 92.88%, Test Acc: 90.65%\n",
            "Epoch [28/50], Loss: 0.189, Train Acc: 93.55%, Test Acc: 91.17%\n",
            "Epoch [29/50], Loss: 0.172, Train Acc: 94.08%, Test Acc: 91.28%\n",
            "Epoch [30/50], Loss: 0.162, Train Acc: 94.45%, Test Acc: 91.18%\n",
            "Epoch [31/50], Loss: 0.152, Train Acc: 94.70%, Test Acc: 91.51%\n",
            "Epoch [32/50], Loss: 0.141, Train Acc: 95.18%, Test Acc: 91.38%\n",
            "Epoch [33/50], Loss: 0.135, Train Acc: 95.38%, Test Acc: 91.74%\n",
            "Epoch [34/50], Loss: 0.131, Train Acc: 95.51%, Test Acc: 92.04%\n",
            "Epoch [35/50], Loss: 0.125, Train Acc: 95.69%, Test Acc: 91.88%\n",
            "Epoch [36/50], Loss: 0.117, Train Acc: 95.98%, Test Acc: 92.00%\n",
            "Epoch [37/50], Loss: 0.114, Train Acc: 96.12%, Test Acc: 91.80%\n",
            "Epoch [38/50], Loss: 0.106, Train Acc: 96.39%, Test Acc: 90.67%\n",
            "Epoch [39/50], Loss: 0.105, Train Acc: 96.38%, Test Acc: 91.98%\n",
            "Epoch [40/50], Loss: 0.100, Train Acc: 96.51%, Test Acc: 91.84%\n",
            "Epoch [41/50], Loss: 0.098, Train Acc: 96.59%, Test Acc: 91.50%\n",
            "Epoch [42/50], Loss: 0.100, Train Acc: 96.49%, Test Acc: 91.75%\n",
            "Epoch [43/50], Loss: 0.094, Train Acc: 96.76%, Test Acc: 91.43%\n",
            "Epoch [44/50], Loss: 0.096, Train Acc: 96.71%, Test Acc: 91.54%\n",
            "Epoch [45/50], Loss: 0.096, Train Acc: 96.69%, Test Acc: 91.59%\n",
            "Epoch [46/50], Loss: 0.088, Train Acc: 96.95%, Test Acc: 91.57%\n",
            "Epoch [47/50], Loss: 0.093, Train Acc: 96.82%, Test Acc: 91.19%\n",
            "Epoch [48/50], Loss: 0.091, Train Acc: 96.85%, Test Acc: 90.99%\n",
            "Epoch [49/50], Loss: 0.091, Train Acc: 96.91%, Test Acc: 90.76%\n",
            "Epoch [50/50], Loss: 0.085, Train Acc: 97.05%, Test Acc: 91.96%\n"
          ]
        }
      ],
      "source": [
        "import torch\n",
        "import torch.optim as optim\n",
        "import torch.nn as nn\n",
        "import torchvision\n",
        "import torchvision.transforms as transforms\n",
        "\n",
        "def train_model(model, trainloader, testloader, epochs=50, lr=0.1, device='cuda'):\n",
        "    criterion = nn.CrossEntropyLoss()\n",
        "    optimizer = optim.SGD(model.parameters(), lr=lr, momentum=0.9, weight_decay=5e-4)\n",
        "    scheduler = optim.lr_scheduler.StepLR(optimizer, step_size=25, gamma=0.1)\n",
        "\n",
        "    model.to(device)\n",
        "\n",
        "    for epoch in range(epochs):\n",
        "        model.train()\n",
        "        running_loss = 0.0\n",
        "        correct = 0\n",
        "        total = 0\n",
        "\n",
        "        for i, (inputs, labels) in enumerate(trainloader):\n",
        "            inputs, labels = inputs.to(device), labels.to(device)\n",
        "\n",
        "            optimizer.zero_grad() # zero outs gradients\n",
        "            outputs = model(inputs) # forward pass : model outsputs predictions\n",
        "            loss = criterion(outputs, labels) # computes the loss\n",
        "            loss.backward() #backward pass to compute the gradients\n",
        "            optimizer.step() #updates the parameters.\n",
        "\n",
        "            running_loss += loss.item()\n",
        "            _, predicted = outputs.max(1)\n",
        "            total += labels.size(0)\n",
        "            correct += predicted.eq(labels).sum().item()\n",
        "\n",
        "        train_acc = 100.*correct/total\n",
        "        scheduler.step()\n",
        "\n",
        "        # Evaluate on test set\n",
        "        model.eval()\n",
        "        correct_test = 0\n",
        "        total_test = 0\n",
        "        with torch.no_grad():\n",
        "            for inputs_test, labels_test in testloader:\n",
        "                inputs_test, labels_test = inputs_test.to(device), labels_test.to(device)\n",
        "                outputs_test = model(inputs_test)\n",
        "                _, predicted_test = outputs_test.max(1)\n",
        "                total_test += labels_test.size(0)\n",
        "                correct_test += predicted_test.eq(labels_test).sum().item()\n",
        "\n",
        "        test_acc = 100.*correct_test/total_test\n",
        "\n",
        "        print(f\"Epoch [{epoch+1}/{epochs}], \"\n",
        "              f\"Loss: {running_loss/len(trainloader):.3f}, \"\n",
        "              f\"Train Acc: {train_acc:.2f}%, Test Acc: {test_acc:.2f}%\")\n",
        "\n",
        "    return model\n",
        "\n",
        "if __name__ == \"__main__\":\n",
        "    # Transforms and dataset\n",
        "    transform_train = transforms.Compose([\n",
        "        transforms.RandomCrop(32, padding=4),\n",
        "        transforms.RandomHorizontalFlip(),\n",
        "        transforms.ToTensor(),\n",
        "        transforms.Normalize((0.4914, 0.4822, 0.4465), (0.2470, 0.2435, 0.2616)),\n",
        "    ])\n",
        "    transform_test = transforms.Compose([\n",
        "        transforms.ToTensor(),\n",
        "        transforms.Normalize((0.4914, 0.4822, 0.4465), (0.2470, 0.2435, 0.2616)),\n",
        "    ])\n",
        "\n",
        "    trainset = torchvision.datasets.CIFAR10(root='./data', train=True, download=True, transform=transform_train)\n",
        "    trainloader = torch.utils.data.DataLoader(trainset, batch_size=128, shuffle=True, num_workers=2)\n",
        "\n",
        "    testset = torchvision.datasets.CIFAR10(root='./data', train=False, download=True, transform=transform_test)\n",
        "    testloader = torch.utils.data.DataLoader(testset, batch_size=128, shuffle=False, num_workers=2)\n",
        "\n",
        "    model = SmallResNet(base_channels=32, num_blocks=[2,2,2,2], num_classes=10)\n",
        "    # training\n",
        "    trained_model = train_model(model, trainloader, testloader, epochs=50, lr=0.1, device='cuda')\n"
      ]
    },
    {
      "cell_type": "code",
      "execution_count": null,
      "metadata": {
        "colab": {
          "base_uri": "https://localhost:8080/"
        },
        "id": "VKJqBTptVm01",
        "outputId": "26804495-c73b-47f4-945d-e20553341ded"
      },
      "outputs": [
        {
          "name": "stdout",
          "output_type": "stream",
          "text": [
            "Total params: 2797610\n"
          ]
        }
      ],
      "source": [
        "def count_params(model):\n",
        "    return sum(p.numel() for p in model.parameters() if p.requires_grad)\n",
        "\n",
        "print(\"Total params:\", count_params(model))"
      ]
    },
    {
      "cell_type": "markdown",
      "metadata": {
        "id": "F7sTSrKkbdAK"
      },
      "source": [
        "modifiying the small resnet and using a medium sized resnet with deeper layers"
      ]
    },
    {
      "cell_type": "code",
      "execution_count": null,
      "metadata": {
        "id": "m8ZjS7pXbkGG"
      },
      "outputs": [],
      "source": [
        "import torch\n",
        "import torch.nn as nn\n",
        "import torch.nn.functional as F\n",
        "import torch.optim as optim\n",
        "import torchvision\n",
        "import torchvision.transforms as transforms\n",
        "from torchsummary import summary\n",
        "\n",
        "def count_params(model):\n",
        "    \"\"\"Return the number of trainable parameters in `model`.\"\"\"\n",
        "    return sum(p.numel() for p in model.parameters() if p.requires_grad)\n",
        "\n",
        "def accuracy(outputs, labels):\n",
        "    \"\"\"Compute the batch accuracy.\"\"\"\n",
        "    _, preds = outputs.max(1)\n",
        "    return preds.eq(labels).sum().item() / labels.size(0)\n"
      ]
    },
    {
      "cell_type": "code",
      "execution_count": null,
      "metadata": {
        "id": "4Q5gQwVgblGL"
      },
      "outputs": [],
      "source": [
        "# Residual Blocks\n",
        "class BasicBlock(nn.Module):\n",
        "    expansion = 1\n",
        "    def __init__(self, in_planes, planes, stride=1):\n",
        "        super(BasicBlock, self).__init__()\n",
        "        self.conv1 = nn.Conv2d(in_planes, planes, kernel_size=3,\n",
        "                               stride=stride, padding=1, bias=False)\n",
        "        self.bn1 = nn.BatchNorm2d(planes)\n",
        "        self.conv2 = nn.Conv2d(planes, planes, kernel_size=3,\n",
        "                               stride=1, padding=1, bias=False)\n",
        "        self.bn2 = nn.BatchNorm2d(planes)\n",
        "\n",
        "        self.shortcut = nn.Sequential()\n",
        "        # If stride != 1 or channels mismatch, apply 1×1 conv to match shapes\n",
        "        if stride != 1 or in_planes != planes * self.expansion:\n",
        "            self.shortcut = nn.Sequential(\n",
        "                nn.Conv2d(in_planes, planes*self.expansion, kernel_size=1,\n",
        "                          stride=stride, bias=False),\n",
        "                nn.BatchNorm2d(planes*self.expansion)\n",
        "            )\n",
        "\n",
        "    def forward(self, x):\n",
        "        out = F.relu(self.bn1(self.conv1(x)))\n",
        "        out = self.bn2(self.conv2(out))\n",
        "        out += self.shortcut(x)\n",
        "        out = F.relu(out)\n",
        "        return out"
      ]
    },
    {
      "cell_type": "code",
      "execution_count": null,
      "metadata": {
        "id": "nwWXL14YboPD"
      },
      "outputs": [],
      "source": [
        "# Medium Resnet\n",
        "class MediumResNet(nn.Module):\n",
        "    def __init__(self, block=BasicBlock, num_blocks=[3,3,3,3],\n",
        "                 base_channels=48, num_classes=10):\n",
        "        \"\"\"\n",
        "        Args:\n",
        "            block (nn.Module): Residual block type (BasicBlock).\n",
        "            num_blocks (list): Number of blocks in each of the 4 layers.\n",
        "            base_channels (int): Channels in the first layer. This scales up each layer.\n",
        "            num_classes (int): Output dimension for classification.\n",
        "        \"\"\"\n",
        "        super(MediumResNet, self).__init__()\n",
        "        self.in_planes = base_channels\n",
        "\n",
        "        # Initial conv: 3×3 with base_channels\n",
        "        self.conv1 = nn.Conv2d(3, base_channels, kernel_size=3,\n",
        "                               stride=1, padding=1, bias=False)\n",
        "        self.bn1 = nn.BatchNorm2d(base_channels)\n",
        "\n",
        "        # Create 4 layers\n",
        "        self.layer1 = self._make_layer(block, base_channels,   num_blocks[0], stride=1)\n",
        "        self.layer2 = self._make_layer(block, base_channels*2, num_blocks[1], stride=2)\n",
        "        self.layer3 = self._make_layer(block, base_channels*4, num_blocks[2], stride=2)\n",
        "        self.layer4 = self._make_layer(block, base_channels*8, num_blocks[3], stride=2)\n",
        "\n",
        "        # Classifier: global average pool -> linear\n",
        "        self.linear = nn.Linear(base_channels*8*block.expansion, num_classes)\n",
        "\n",
        "    def _make_layer(self, block, planes, num_blocks, stride):\n",
        "        strides = [stride] + [1]*(num_blocks-1)\n",
        "        layers = []\n",
        "        for s in strides:\n",
        "            layers.append(block(self.in_planes, planes, s))\n",
        "            self.in_planes = planes * block.expansion\n",
        "        return nn.Sequential(*layers)\n",
        "\n",
        "    def forward(self, x):\n",
        "        out = F.relu(self.bn1(self.conv1(x)))\n",
        "        out = self.layer1(out)\n",
        "        out = self.layer2(out)\n",
        "        out = self.layer3(out)\n",
        "        out = self.layer4(out)\n",
        "        # Global average pooling to 1×1\n",
        "        out = F.adaptive_avg_pool2d(out, 1)\n",
        "        out = out.view(out.size(0), -1)\n",
        "        out = self.linear(out)\n",
        "        return out\n"
      ]
    },
    {
      "cell_type": "code",
      "execution_count": null,
      "metadata": {
        "id": "aLq916yMbupl"
      },
      "outputs": [],
      "source": [
        "# Data Loading & Augmentation\n",
        "def get_cifar10_loaders(batch_size=128, num_workers=2):\n",
        "    \"\"\"\n",
        "    Returns trainloader, testloader for CIFAR-10 with standard augmentation.\n",
        "    \"\"\"\n",
        "    transform_train = transforms.Compose([\n",
        "        transforms.RandomCrop(32, padding=4),\n",
        "        transforms.RandomHorizontalFlip(),\n",
        "        transforms.ToTensor(),\n",
        "        transforms.Normalize((0.4914, 0.4822, 0.4465), (0.2470, 0.2435, 0.2616)),\n",
        "    ])\n",
        "    transform_test = transforms.Compose([\n",
        "        transforms.ToTensor(),\n",
        "        transforms.Normalize((0.4914, 0.4822, 0.4465), (0.2470, 0.2435, 0.2616)),\n",
        "    ])\n",
        "\n",
        "    trainset = torchvision.datasets.CIFAR10(\n",
        "        root='./data', train=True, download=True, transform=transform_train)\n",
        "    trainloader = torch.utils.data.DataLoader(\n",
        "        trainset, batch_size=batch_size, shuffle=True, num_workers=num_workers)\n",
        "\n",
        "    testset = torchvision.datasets.CIFAR10(\n",
        "        root='./data', train=False, download=True, transform=transform_test)\n",
        "    testloader = torch.utils.data.DataLoader(\n",
        "        testset, batch_size=batch_size, shuffle=False, num_workers=num_workers)\n",
        "\n",
        "    return trainloader, testloader\n"
      ]
    },
    {
      "cell_type": "code",
      "execution_count": null,
      "metadata": {
        "id": "lTJt_wfrbzTl"
      },
      "outputs": [],
      "source": [
        "# Training\n",
        "\n",
        "def train_model(model, trainloader, testloader,\n",
        "                epochs=50, lr=0.1, step_size=25, gamma=0.1,\n",
        "                device='cuda'):\n",
        "    \"\"\"\n",
        "    Train and evaluate the model on CIFAR-10.\n",
        "    \"\"\"\n",
        "    criterion = nn.CrossEntropyLoss()\n",
        "    optimizer = optim.SGD(model.parameters(), lr=lr,\n",
        "                          momentum=0.9, weight_decay=5e-4)\n",
        "    scheduler = optim.lr_scheduler.StepLR(optimizer, step_size=step_size, gamma=gamma)\n",
        "\n",
        "    model.to(device)\n",
        "\n",
        "    for epoch in range(epochs):\n",
        "        model.train()\n",
        "        running_loss, running_correct, total = 0.0, 0, 0\n",
        "\n",
        "        for images, labels in trainloader:\n",
        "            images, labels = images.to(device), labels.to(device)\n",
        "            optimizer.zero_grad()\n",
        "            outputs = model(images)\n",
        "            loss = criterion(outputs, labels)\n",
        "            loss.backward()\n",
        "            optimizer.step()\n",
        "\n",
        "            running_loss += loss.item() * images.size(0)\n",
        "            running_correct += (outputs.max(1)[1] == labels).sum().item()\n",
        "            total += labels.size(0)\n",
        "\n",
        "        train_acc = 100.0 * running_correct / total\n",
        "        train_loss = running_loss / total\n",
        "\n",
        "        # Evaluate\n",
        "        test_acc, test_loss = evaluate_model(model, testloader, criterion, device)\n",
        "\n",
        "        # Scheduler step\n",
        "        scheduler.step()\n",
        "\n",
        "        print(f\"Epoch [{epoch+1}/{epochs}], \"\n",
        "              f\"Train Loss: {train_loss:.3f}, Train Acc: {train_acc:.2f}%, \"\n",
        "              f\"Test Loss: {test_loss:.3f}, Test Acc: {test_acc:.2f}%\")\n",
        "\n",
        "    return model\n",
        "\n",
        "def evaluate_model(model, dataloader, criterion, device='cuda'):\n",
        "    model.eval()\n",
        "    running_loss, correct, total = 0.0, 0, 0\n",
        "    with torch.no_grad():\n",
        "        for images, labels in dataloader:\n",
        "            images, labels = images.to(device), labels.to(device)\n",
        "            outputs = model(images)\n",
        "            loss = criterion(outputs, labels)\n",
        "            running_loss += loss.item() * images.size(0)\n",
        "            correct += (outputs.max(1)[1] == labels).sum().item()\n",
        "            total += labels.size(0)\n",
        "    avg_loss = running_loss / total\n",
        "    acc = 100.0 * correct / total\n",
        "    return acc, avg_loss"
      ]
    },
    {
      "cell_type": "code",
      "execution_count": null,
      "metadata": {
        "colab": {
          "base_uri": "https://localhost:8080/"
        },
        "id": "WxMXDk3ib3rT",
        "outputId": "1b9c827f-ff63-4984-e687-bc47ca8d6366"
      },
      "outputs": [
        {
          "name": "stdout",
          "output_type": "stream",
          "text": [
            "Files already downloaded and verified\n",
            "Files already downloaded and verified\n",
            "Total trainable parameters: 9816442\n",
            "Epoch [1/50], Train Loss: 2.011, Train Acc: 28.93%, Test Loss: 1.666, Test Acc: 37.84%\n",
            "Epoch [2/50], Train Loss: 1.542, Train Acc: 43.57%, Test Loss: 1.388, Test Acc: 47.94%\n",
            "Epoch [3/50], Train Loss: 1.263, Train Acc: 54.24%, Test Loss: 1.150, Test Acc: 58.64%\n",
            "Epoch [4/50], Train Loss: 1.026, Train Acc: 64.00%, Test Loss: 1.124, Test Acc: 60.90%\n",
            "Epoch [5/50], Train Loss: 0.869, Train Acc: 69.36%, Test Loss: 1.058, Test Acc: 65.37%\n",
            "Epoch [6/50], Train Loss: 0.738, Train Acc: 74.08%, Test Loss: 0.741, Test Acc: 74.34%\n",
            "Epoch [7/50], Train Loss: 0.653, Train Acc: 77.26%, Test Loss: 0.757, Test Acc: 74.30%\n",
            "Epoch [8/50], Train Loss: 0.601, Train Acc: 79.36%, Test Loss: 0.620, Test Acc: 78.97%\n",
            "Epoch [9/50], Train Loss: 0.561, Train Acc: 80.56%, Test Loss: 0.635, Test Acc: 78.96%\n",
            "Epoch [10/50], Train Loss: 0.537, Train Acc: 81.54%, Test Loss: 0.796, Test Acc: 73.46%\n",
            "Epoch [11/50], Train Loss: 0.505, Train Acc: 82.69%, Test Loss: 0.804, Test Acc: 74.65%\n",
            "Epoch [12/50], Train Loss: 0.495, Train Acc: 82.88%, Test Loss: 0.638, Test Acc: 79.07%\n",
            "Epoch [13/50], Train Loss: 0.483, Train Acc: 83.41%, Test Loss: 0.770, Test Acc: 75.89%\n",
            "Epoch [14/50], Train Loss: 0.467, Train Acc: 83.99%, Test Loss: 0.491, Test Acc: 83.53%\n",
            "Epoch [15/50], Train Loss: 0.454, Train Acc: 84.28%, Test Loss: 0.566, Test Acc: 81.26%\n",
            "Epoch [16/50], Train Loss: 0.443, Train Acc: 84.75%, Test Loss: 0.528, Test Acc: 82.21%\n",
            "Epoch [17/50], Train Loss: 0.438, Train Acc: 84.86%, Test Loss: 0.618, Test Acc: 79.66%\n",
            "Epoch [18/50], Train Loss: 0.431, Train Acc: 85.27%, Test Loss: 0.550, Test Acc: 81.59%\n",
            "Epoch [19/50], Train Loss: 0.426, Train Acc: 85.37%, Test Loss: 0.488, Test Acc: 83.34%\n",
            "Epoch [20/50], Train Loss: 0.415, Train Acc: 85.97%, Test Loss: 0.553, Test Acc: 81.02%\n",
            "Epoch [21/50], Train Loss: 0.409, Train Acc: 86.09%, Test Loss: 0.629, Test Acc: 79.54%\n",
            "Epoch [22/50], Train Loss: 0.401, Train Acc: 86.20%, Test Loss: 0.516, Test Acc: 82.19%\n",
            "Epoch [23/50], Train Loss: 0.398, Train Acc: 86.40%, Test Loss: 0.802, Test Acc: 76.08%\n",
            "Epoch [24/50], Train Loss: 0.402, Train Acc: 86.30%, Test Loss: 0.487, Test Acc: 83.87%\n",
            "Epoch [25/50], Train Loss: 0.394, Train Acc: 86.52%, Test Loss: 0.498, Test Acc: 82.84%\n",
            "Epoch [26/50], Train Loss: 0.230, Train Acc: 92.31%, Test Loss: 0.260, Test Acc: 91.19%\n",
            "Epoch [27/50], Train Loss: 0.177, Train Acc: 94.01%, Test Loss: 0.248, Test Acc: 91.59%\n",
            "Epoch [28/50], Train Loss: 0.159, Train Acc: 94.52%, Test Loss: 0.240, Test Acc: 91.94%\n",
            "Epoch [29/50], Train Loss: 0.140, Train Acc: 95.23%, Test Loss: 0.241, Test Acc: 92.14%\n",
            "Epoch [30/50], Train Loss: 0.127, Train Acc: 95.64%, Test Loss: 0.236, Test Acc: 92.11%\n",
            "Epoch [31/50], Train Loss: 0.118, Train Acc: 95.99%, Test Loss: 0.240, Test Acc: 92.32%\n",
            "Epoch [32/50], Train Loss: 0.109, Train Acc: 96.29%, Test Loss: 0.236, Test Acc: 92.15%\n",
            "Epoch [33/50], Train Loss: 0.102, Train Acc: 96.55%, Test Loss: 0.255, Test Acc: 91.94%\n",
            "Epoch [34/50], Train Loss: 0.095, Train Acc: 96.80%, Test Loss: 0.258, Test Acc: 91.83%\n",
            "Epoch [35/50], Train Loss: 0.085, Train Acc: 97.11%, Test Loss: 0.272, Test Acc: 91.80%\n",
            "Epoch [36/50], Train Loss: 0.079, Train Acc: 97.26%, Test Loss: 0.254, Test Acc: 92.12%\n",
            "Epoch [37/50], Train Loss: 0.083, Train Acc: 97.21%, Test Loss: 0.253, Test Acc: 92.50%\n",
            "Epoch [38/50], Train Loss: 0.075, Train Acc: 97.42%, Test Loss: 0.263, Test Acc: 92.16%\n",
            "Epoch [39/50], Train Loss: 0.073, Train Acc: 97.58%, Test Loss: 0.260, Test Acc: 92.21%\n",
            "Epoch [40/50], Train Loss: 0.068, Train Acc: 97.71%, Test Loss: 0.270, Test Acc: 92.17%\n",
            "Epoch [41/50], Train Loss: 0.066, Train Acc: 97.79%, Test Loss: 0.268, Test Acc: 92.29%\n",
            "Epoch [42/50], Train Loss: 0.067, Train Acc: 97.67%, Test Loss: 0.294, Test Acc: 91.35%\n",
            "Epoch [43/50], Train Loss: 0.066, Train Acc: 97.73%, Test Loss: 0.268, Test Acc: 92.06%\n",
            "Epoch [44/50], Train Loss: 0.062, Train Acc: 97.94%, Test Loss: 0.301, Test Acc: 91.48%\n",
            "Epoch [45/50], Train Loss: 0.065, Train Acc: 97.77%, Test Loss: 0.293, Test Acc: 91.46%\n",
            "Epoch [46/50], Train Loss: 0.062, Train Acc: 97.87%, Test Loss: 0.282, Test Acc: 91.95%\n",
            "Epoch [47/50], Train Loss: 0.063, Train Acc: 97.82%, Test Loss: 0.272, Test Acc: 91.93%\n",
            "Epoch [48/50], Train Loss: 0.061, Train Acc: 97.87%, Test Loss: 0.315, Test Acc: 91.10%\n",
            "Epoch [49/50], Train Loss: 0.060, Train Acc: 97.99%, Test Loss: 0.301, Test Acc: 91.28%\n",
            "Epoch [50/50], Train Loss: 0.063, Train Acc: 97.87%, Test Loss: 0.270, Test Acc: 92.16%\n"
          ]
        }
      ],
      "source": [
        "if __name__ == \"__main__\":\n",
        "    # Get data loaders\n",
        "    trainloader, testloader = get_cifar10_loaders(batch_size=128, num_workers=2)\n",
        "\n",
        "    # Instantiate the ResNet\n",
        "    model = MediumResNet(\n",
        "        block=BasicBlock,\n",
        "        num_blocks=[3,3,3,3],  # can tweak for more/less depth\n",
        "        base_channels=48,      # can increase if still under 5M\n",
        "        num_classes=10\n",
        "    )\n",
        "\n",
        "    # Check parameter count\n",
        "    pcount = count_params(model)\n",
        "    print(f\"Total trainable parameters: {pcount}\")\n",
        "\n",
        "    # see layer-by-layer summary command:\n",
        "    # summary(model, (3, 32, 32), device='cpu')  # or device='cuda'\n",
        "\n",
        "    # Train\n",
        "    trained_model = train_model(\n",
        "        model, trainloader, testloader,\n",
        "        epochs=50, lr=0.1, step_size=25, gamma=0.1,\n",
        "        device='cuda' if torch.cuda.is_available() else 'cpu'\n",
        "    )"
      ]
    },
    {
      "cell_type": "markdown",
      "metadata": {
        "id": "4PV2gE8oFqiF"
      },
      "source": [
        "Note: obviously this bypasses the 5 million limit but I was just testing base_channels = 48 and num_blocks = [3,3,3,3]. each time the channels are doubled across the four layers, the network grows from 48->96->192->384 so the deeper layers add a lot of convolutional weights.\n",
        "Basic block mathematically works like (Cin * Cout * 3 * 3) * 2 (two conv layers) + batch norm paramters, multiplying the above over multiple layers exceed the parameter budget.\n",
        "\n",
        "epoch observations:\n",
        "- jump around epoch 25-26 where stepLR schedule drops learning rate by gamma=0.1 to 0.01 which causes a boost in performance\n",
        "- overfitting a little bit by 5%, but 50 epochs is a good #\n",
        "\n",
        "ways to improve (lessen parameters to <= 50 mil:\n",
        "- reducing base_channels=32 using [3,3,3,3] blocks\n",
        "- reducing [3,3,3,3] to [2,2,2,2] blocks which is.a ResNet-18-style with a custom base channel width. less residual blocks mean fewer convolution layers\n",
        "- make a combo where we can use lower base_channels & lower block width like base_channels = 40 & block_width = [2,2,2,2]\n",
        "\n",
        "> Also what is learning rate (scheduling)\n",
        "- adjusting the learning rate during training rather than keeping it fixed.\n",
        "- choosing a scehdule helps the optimizer converge faster => leads to a higher final accuracy\n",
        "  - early training: higher learning rate for training model to learn quickly the basic complexities\n",
        "  - later training: lower learning rate to allow the model to refine its position in the loss landscape which reduces oscillation and improves fine-tuning of weights.\n",
        "  - this allows for a learning rate drop that is times to lead to a jump in accuracy since the model wil converge effeticely with a smaller step size.\n",
        "- Currently using StepLR\n",
        "scheduler = torch.optim.lr_scheduler.StepLR(optimizer, step_size=25, gamma=0.1)\n",
        "  - at every step_size of ephocs (e.g 25), the learning rate is multiplied by gamma (0.1) so initially the LR = 0.1, and then at Epoch 25: LR => 0.01, and Epoch 50: LR => 0.001, etc.\n",
        "\n",
        "- Other options that are more advances but StepLR is most commonly referenced too in class.\n",
        "> Cosine Annealing:\n",
        "scheduler = torch.optim.lr_scheduler.CosineAnnealingLR(optimizer, T_max=epochs)\n",
        "  - The learning rate follows a cosine curve from an initial value (e.g., 0.1) down to a minimum (often near 0) over T_max epochs.\n",
        "  - The LR decreases more smoothly than StepLR, potentially avoiding abrupt changes that might cause small disruptions in training.\n",
        "  - Some approaches like CosineAnnealingWarmRestarts periodically reset to a higher LR, letting the model escape local minima multiple times.\n",
        "\n",
        "> OneCycleLR\n",
        "scheduler = torch.optim.lr_scheduler.OneCycleLR(\n",
        "    optimizer, max_lr=0.1, steps_per_epoch=len(trainloader), epochs=50\n",
        ")\n",
        "  - In a single “cycle,” the learning rate first increases from a lower bound to max_lr over some fraction of the total iterations, then decreases back down to a lower bound over the remaining iterations.\n",
        "  - The initial warm‐up phase helps the model quickly find a good region of the parameter space.\n",
        "  - The second phase reduces LR, allowing the model to converge more precisely.\n",
        "  - Often yields very stable and fast convergence, popularized by the “1cycle policy” from Leslie Smith.\n",
        "\n",
        "\n",
        "\n",
        "  > Different Optimizers\n",
        "    -  Basic SGD (Stochastic Gradient Descent)\n",
        "      - w <- w - alpha upside down delta (lower w) Loss\n",
        "      - delta is the learning rate and upside down delta (lower w) Loss is the gradient of the loss with respect to w\n",
        "      pros:\n",
        "        - easy to implement and has a good baseline\n",
        "      cons:\n",
        "        - slow convergence, oscialltes or takes small steps in noisy directions\n",
        "        - needs careful LR tuning since it is sensitive of the choice of learning rate\n",
        "      - code:\n",
        "      import torch.optim as optim\n",
        "      optimizer = optim.SGD(\n",
        "          model.parameters(),\n",
        "          lr=0.1  # typical LR for CIFAR-10\n",
        "      )\n",
        "    - SGD with Momentum\n",
        "      - Momentum is an extension of SGD that accumulates an exponentially decaying average of past gradients:\n",
        "      - v <- beta (lower v) + delta (lower w)(Loss), w <- w - alpha v\n",
        "      where Beta (B) is the momentum coefficient\n",
        "      pros:\n",
        "        - faster convergence since it helps the optimizer move in a perferred direction to dampen oscillations in the gradient\n",
        "        - esscapes shallow (small) local minima\n",
        "      cons:\n",
        "        - requires careful LR since momentum doesnt adapt to the learning rate for each parameter, so LR needs  to be tuned\n",
        "        - potential overshooting of the minima if the momentum is too high\n",
        "      - code:\n",
        "      optimizer = optim.SGD(\n",
        "        model.parameters(),\n",
        "        lr=0.1,\n",
        "        momentum=0.9,    # typical momentum value\n",
        "        weight_decay=5e-4  # optional L2 regularization\n",
        "      )\n",
        "\n",
        "    - Adam (Adaptive Moment Estimation)\n",
        "      - maintains first and second moments (mean and variance) of past gradients for each parameter: ( some complicated ass formula) which effectively adapts the learning rate for each parameter based on its gradient history\n",
        "      pros:\n",
        "        - adaptive LR as it automatically scales the step size per parameter\n",
        "        - fast convergence: Often converges more quickly than plain SGD or SGD with momentum, especially in problems with sparse gradients or large parameter counts. (maybe not the best here as 5 mil is theoretically not a lot of param counts)\n",
        "      cons:\n",
        "        - generalization: Some studies suggest Adam might generalize slightly worse than tuned SGD with momentum on certain datasets, though this is problem‐dependent.\n",
        "        - extra hyperparamerts such as beta(1) & beta(2) that might need tuning\n",
        "      - code:\n",
        "      optimizer = optim.Adam(\n",
        "          model.parameters(),\n",
        "          lr=1e-3,\n",
        "          weight_decay=1e-4  # optional L2 regularization\n",
        "      )\n",
        "\n",
        "  \n",
        "  # Option A: Basic SGD\n",
        "  optimizer = optim.SGD(model.parameters(), lr=0.1)\n",
        "\n",
        "  # Option B: SGD with Momentum\n",
        "  optimizer = optim.SGD(model.parameters(), lr=0.1, momentum=0.9, weight_decay=5e-4)\n",
        "\n",
        "  # Option C: Adam\n",
        "  optimizer = optim.Adam(model.parameters(), lr=1e-3, weight_decay=1e-4)\n",
        "\n",
        "\n",
        "  > Loss Function\n",
        "  - cross entropy loss\n",
        "    - scalar value that quantifies how far off the model's predictions are from the true labels"
      ]
    },
    {
      "cell_type": "code",
      "execution_count": null,
      "metadata": {
        "id": "Hn60ZQL_N4BU"
      },
      "outputs": [],
      "source": [
        "import torch\n",
        "import torch.nn as nn\n",
        "import torch.nn.functional as F\n",
        "\n",
        "class BasicBlock(nn.Module):\n",
        "    expansion = 1  # The output channels factor\n",
        "\n",
        "    def __init__(self, in_planes, planes, stride=1):\n",
        "        super(BasicBlock, self).__init__()\n",
        "        self.conv1 = nn.Conv2d(\n",
        "            in_planes, planes, kernel_size=3, stride=stride,\n",
        "            padding=1, bias=False\n",
        "        )\n",
        "        self.bn1 = nn.BatchNorm2d(planes)\n",
        "        self.conv2 = nn.Conv2d(\n",
        "            planes, planes, kernel_size=3, stride=1,\n",
        "            padding=1, bias=False\n",
        "        )\n",
        "        self.bn2 = nn.BatchNorm2d(planes)\n",
        "\n",
        "        self.shortcut = nn.Sequential()\n",
        "        if stride != 1 or in_planes != planes * self.expansion:\n",
        "            self.shortcut = nn.Sequential(\n",
        "                nn.Conv2d(\n",
        "                    in_planes, planes * self.expansion,\n",
        "                    kernel_size=1, stride=stride, bias=False\n",
        "                ),\n",
        "                nn.BatchNorm2d(planes * self.expansion)\n",
        "            )\n",
        "\n",
        "    def forward(self, x):\n",
        "        out = F.relu(self.bn1(self.conv1(x)))\n",
        "        out = self.bn2(self.conv2(out))\n",
        "        out += self.shortcut(x)\n",
        "        out = F.relu(out)\n",
        "        return out\n",
        "\n",
        "class ResNet(nn.Module):\n",
        "    def __init__(self, block, num_blocks, num_classes=10):\n",
        "        super(ResNet, self).__init__()\n",
        "        self.in_planes = 64\n",
        "\n",
        "        # Initial convolution: 3×3 kernel, 64 channels, stride=1 for CIFAR-10\n",
        "        self.conv1 = nn.Conv2d(\n",
        "            3, 64, kernel_size=3, stride=1, padding=1, bias=False\n",
        "        )\n",
        "        self.bn1 = nn.BatchNorm2d(64)\n",
        "\n",
        "        # Each layer has some number of blocks\n",
        "        self.layer1 = self._make_layer(block, 64,  num_blocks[0], stride=1)\n",
        "        self.layer2 = self._make_layer(block, 128, num_blocks[1], stride=2)\n",
        "        self.layer3 = self._make_layer(block, 256, num_blocks[2], stride=2)\n",
        "        self.layer4 = self._make_layer(block, 512, num_blocks[3], stride=2)\n",
        "\n",
        "        # Global average pooling + linear classifier\n",
        "        self.linear = nn.Linear(512*block.expansion, num_classes)\n",
        "\n",
        "    def _make_layer(self, block, planes, num_blocks, stride):\n",
        "        strides = [stride] + [1]*(num_blocks - 1)\n",
        "        layers = []\n",
        "        for s in strides:\n",
        "            layers.append(block(self.in_planes, planes, s))\n",
        "            self.in_planes = planes * block.expansion\n",
        "        return nn.Sequential(*layers)\n",
        "\n",
        "    def forward(self, x):\n",
        "        out = F.relu(self.bn1(self.conv1(x)))  # initial conv\n",
        "        out = self.layer1(out)\n",
        "        out = self.layer2(out)\n",
        "        out = self.layer3(out)\n",
        "        out = self.layer4(out)\n",
        "        # Global average pool from e.g. 4×4 → 1×1\n",
        "        out = F.adaptive_avg_pool2d(out, 1)\n",
        "        out = out.view(out.size(0), -1)\n",
        "        out = self.linear(out)\n",
        "        return out\n",
        "\n",
        "\n",
        "def ResNet18(num_classes=10):\n",
        "  return ResNet(BasicBlock, [2, 2, 2, 2], num_classes=num_classes)\n",
        "\n",
        "def ResNet34(num_classes=10):\n",
        "  return ResNet(BasicBlock, [3, 4, 6, 3], num_classes=num_classes)\n",
        "\n",
        "# etc. for ResNet50, ResNet101, etc.\n"
      ]
    },
    {
      "cell_type": "code",
      "execution_count": null,
      "metadata": {
        "id": "bCow5fr5TEQD"
      },
      "outputs": [],
      "source": [
        "import torch\n",
        "import torch.nn as nn\n",
        "import torch.nn.functional as F\n",
        "\n",
        "class BasicBlock(nn.Module):\n",
        "    expansion = 1\n",
        "    def __init__(self, in_planes, planes, stride=1):\n",
        "        super(BasicBlock, self).__init__()\n",
        "        self.conv1 = nn.Conv2d(in_planes, planes, kernel_size=3, stride=stride,\n",
        "                               padding=1, bias=False)\n",
        "        self.bn1 = nn.BatchNorm2d(planes)\n",
        "        self.conv2 = nn.Conv2d(planes, planes, kernel_size=3, stride=1,\n",
        "                               padding=1, bias=False)\n",
        "        self.bn2 = nn.BatchNorm2d(planes)\n",
        "\n",
        "        self.shortcut = nn.Sequential()\n",
        "        if stride != 1 or in_planes != planes * self.expansion:\n",
        "            self.shortcut = nn.Sequential(\n",
        "                nn.Conv2d(in_planes, planes*self.expansion,\n",
        "                          kernel_size=1, stride=stride, bias=False),\n",
        "                nn.BatchNorm2d(planes*self.expansion)\n",
        "            )\n",
        "\n",
        "    def forward(self, x):\n",
        "        out = F.relu(self.bn1(self.conv1(x)))\n",
        "        out = self.bn2(self.conv2(out))\n",
        "        out += self.shortcut(x)\n",
        "        return F.relu(out)\n",
        "\n",
        "\n",
        "class SmallResNet(nn.Module):\n",
        "    \"\"\"\n",
        "    A ResNet-like model that reduces the base channel width from 64 down to e.g. 32,\n",
        "    to keep total params under ~5M. We still use [2,2,2,2] blocks.\n",
        "    \"\"\"\n",
        "    def __init__(self, block, num_blocks, base_channels=32, num_classes=10):\n",
        "        super(SmallResNet, self).__init__()\n",
        "        self.in_planes = base_channels\n",
        "\n",
        "        # Instead of 3->64, do 3->base_channels\n",
        "        self.conv1 = nn.Conv2d(3, base_channels, kernel_size=3,\n",
        "                               stride=1, padding=1, bias=False)\n",
        "        self.bn1 = nn.BatchNorm2d(base_channels)\n",
        "\n",
        "        # layer1: base_channels\n",
        "        # layer2: base_channels*2\n",
        "        # layer3: base_channels*4\n",
        "        # layer4: base_channels*8\n",
        "        self.layer1 = self._make_layer(block, base_channels,   num_blocks[0], stride=1)\n",
        "        self.layer2 = self._make_layer(block, base_channels*2, num_blocks[1], stride=2)\n",
        "        self.layer3 = self._make_layer(block, base_channels*4, num_blocks[2], stride=2)\n",
        "        self.layer4 = self._make_layer(block, base_channels*8, num_blocks[3], stride=2)\n",
        "\n",
        "        self.linear = nn.Linear(base_channels*8*block.expansion, num_classes)\n",
        "\n",
        "    def _make_layer(self, block, planes, num_blocks, stride):\n",
        "        strides = [stride] + [1]*(num_blocks-1)\n",
        "        layers = []\n",
        "        for s in strides:\n",
        "            layers.append(block(self.in_planes, planes, s))\n",
        "            self.in_planes = planes * block.expansion\n",
        "        return nn.Sequential(*layers)\n",
        "\n",
        "    def forward(self, x):\n",
        "        out = F.relu(self.bn1(self.conv1(x)))\n",
        "        out = self.layer1(out)\n",
        "        out = self.layer2(out)\n",
        "        out = self.layer3(out)\n",
        "        out = self.layer4(out)\n",
        "        # Global avg pool\n",
        "        out = F.adaptive_avg_pool2d(out, 1)\n",
        "        out = out.view(out.size(0), -1)\n",
        "        out = self.linear(out)\n",
        "        return out\n",
        "\n",
        "\n",
        "def SmallResNet18(num_classes=10, base_channels=32):\n",
        "    return SmallResNet(BasicBlock, [2, 2, 2, 2],\n",
        "                       base_channels=base_channels,\n",
        "                       num_classes=num_classes)\n",
        "\n",
        "def SmallResNet19(num_classes=10, base_channels=32):\n",
        "    return SmallResNet(BasicBlock, [3, 3, 3, 3],\n",
        "                       base_channels=base_channels,\n",
        "                       num_classes=num_classes)\n",
        "\n",
        "def SmallResNet20(num_classes=10, base_channels=40):\n",
        "    return SmallResNet(BasicBlock, [2, 2, 2, 2],\n",
        "                       base_channels=base_channels,\n",
        "                       num_classes=num_classes)\n",
        "\n",
        "def SmallResNet23(num_classes=10, base_channels=40):\n",
        "    return SmallResNet(BasicBlock, [2, 2, 2, 2],\n",
        "                       base_channels=base_channels,\n",
        "                       num_classes=num_classes)"
      ]
    },
    {
      "cell_type": "code",
      "execution_count": null,
      "metadata": {
        "colab": {
          "base_uri": "https://localhost:8080/"
        },
        "id": "7V5xc1RPTFZt",
        "outputId": "50a7aa5c-2ad6-41e7-8804-0aaac456b6ad"
      },
      "outputs": [
        {
          "name": "stdout",
          "output_type": "stream",
          "text": [
            "Param count: 2797610\n",
            "Param count: 4368690\n",
            "Param count: 5775816\n",
            "Param count: 4366250\n"
          ]
        }
      ],
      "source": [
        "model = SmallResNet18(num_classes=10, base_channels=32) # < 5 mil,  ~ 3 mil\n",
        "print(\"Param count:\", sum(p.numel() for p in model.parameters()))\n",
        "\n",
        "model2 = SmallResNet20(num_classes=10, base_channels=40) # < 5 mil, ~ 4.36 mil\n",
        "print(\"Param count:\", sum(p.numel() for p in model2.parameters()))\n",
        "\n",
        "model3 = SmallResNet23(num_classes=10, base_channels=46) #too big\n",
        "print(\"Param count:\", sum(p.numel() for p in model3.parameters()))\n",
        "\n",
        "model4 = SmallResNet19(num_classes=10, base_channels=32) # testing wider layers # < 5 mil, ~ 4.36 mil\n",
        "print(\"Param count:\", sum(p.numel() for p in model4.parameters()))"
      ]
    },
    {
      "cell_type": "code",
      "execution_count": null,
      "metadata": {
        "id": "2zZ-dPyCQjS5"
      },
      "outputs": [],
      "source": [
        "import pickle\n",
        "import numpy as np\n",
        "import os\n",
        "import torch\n",
        "from torch.utils.data import Dataset\n",
        "import torchvision.transforms as transforms\n",
        "\n",
        "def unpickle(file):\n",
        "    with open(file, 'rb') as fo:\n",
        "        dict_ = pickle.load(fo, encoding='bytes')\n",
        "    return dict_\n",
        "\n",
        "def load_cifar10_training(path):\n",
        "    \"\"\"\n",
        "    path = \"/content/cifar_data/cifar-10-python/cifar-10-batches-py\"\n",
        "    Loads data_batch_1..5, concatenates them into a single array.\n",
        "    Returns:\n",
        "      images: shape (50000, 3072)\n",
        "      labels: shape (50000,)\n",
        "    \"\"\"\n",
        "    images_list = []\n",
        "    labels_list = []\n",
        "    for i in range(1, 6):\n",
        "        batch_file = os.path.join(path, f\"data_batch_{i}\")\n",
        "        batch_dict = unpickle(batch_file)\n",
        "        images_list.append(batch_dict[b'data'])\n",
        "        labels_list.extend(batch_dict[b'labels'])\n",
        "    images = np.concatenate(images_list, axis=0)  # (50000, 3072)\n",
        "    labels = np.array(labels_list)                # (50000,)\n",
        "    return images, labels\n",
        "\n",
        "def load_cifar10_test(path):\n",
        "    \"\"\"\n",
        "    Loads test_batch, returns images and labels.\n",
        "    \"\"\"\n",
        "    test_file = os.path.join(path, \"test_batch\")\n",
        "    batch_dict = unpickle(test_file)\n",
        "    images = batch_dict[b'data']           # shape (10000, 3072)\n",
        "    labels = np.array(batch_dict[b'labels'])  # shape (10000,)\n",
        "    return images, labels\n",
        "\n",
        "class CustomCIFARDataset(Dataset):\n",
        "    def __init__(self, images, labels, transform=None):\n",
        "        \"\"\"\n",
        "        images: shape (N, 3072) NumPy array\n",
        "        labels: shape (N,) or list\n",
        "        transform: optional torchvision transforms\n",
        "        \"\"\"\n",
        "        self.images = images\n",
        "        self.labels = labels\n",
        "        self.transform = transform\n",
        "\n",
        "    def __len__(self):\n",
        "        return len(self.labels)\n",
        "\n",
        "    def __getitem__(self, idx):\n",
        "        img = self.images[idx]  # shape (3072,)\n",
        "        label = self.labels[idx]\n",
        "\n",
        "        # reshape to (3, 32, 32)\n",
        "        img = img.reshape(3, 32, 32).astype(\"float32\")\n",
        "\n",
        "        # convert to PIL or torch.Tensor\n",
        "        # We'll convert to torch.Tensor first, then apply transforms if needed\n",
        "        img = torch.from_numpy(img)\n",
        "\n",
        "        if self.transform:\n",
        "            # transforms in PyTorch usually expect a PIL Image or\n",
        "            # a float Tensor in [0,1]. We'll treat 'img' as a Tensor.\n",
        "            img = self.transform(img)\n",
        "\n",
        "        return img, label\n",
        "\n",
        "\n"
      ]
    },
    {
      "cell_type": "code",
      "execution_count": null,
      "metadata": {
        "id": "nwRFLbH1Q0JS"
      },
      "outputs": [],
      "source": [
        "train_transform = transforms.Compose([\n",
        "    transforms.ToPILImage(),\n",
        "    transforms.RandomCrop(32, padding=4),\n",
        "    transforms.RandomHorizontalFlip(),\n",
        "    transforms.ToTensor(),  # back to tensor\n",
        "    transforms.Normalize((0.4914, 0.4822, 0.4465), (0.2470, 0.2435, 0.2616)),\n",
        "])\n",
        "\n",
        "test_transform = transforms.Compose([\n",
        "    transforms.ToPILImage(),\n",
        "    transforms.ToTensor(),\n",
        "    transforms.Normalize((0.4914, 0.4822, 0.4465), (0.2470, 0.2435, 0.2616)),\n",
        "])\n",
        "\n",
        "train_images, train_labels = load_cifar10_training(\"/content/cifar_data/cifar-10-python/cifar-10-batches-py\")\n",
        "test_images, test_labels   = load_cifar10_test(\"/content/cifar_data/cifar-10-python/cifar-10-batches-py\")\n",
        "\n",
        "train_dataset = CustomCIFARDataset(\n",
        "    train_images, train_labels, transform=train_transform\n",
        ")\n",
        "test_dataset = CustomCIFARDataset(\n",
        "    test_images, test_labels, transform=test_transform\n",
        ")\n",
        "\n",
        "trainloader = torch.utils.data.DataLoader(\n",
        "    train_dataset, batch_size=128, shuffle=True, num_workers=2\n",
        ")\n",
        "testloader = torch.utils.data.DataLoader(\n",
        "    test_dataset, batch_size=128, shuffle=False, num_workers=2\n",
        ")\n"
      ]
    },
    {
      "cell_type": "code",
      "execution_count": null,
      "metadata": {
        "colab": {
          "base_uri": "https://localhost:8080/"
        },
        "id": "PspsMA5HQ7Zo",
        "outputId": "06b9c691-b92d-457f-a4e2-cc5d9d78d9e4"
      },
      "outputs": [
        {
          "name": "stdout",
          "output_type": "stream",
          "text": [
            "Parameter count: 21282122\n"
          ]
        }
      ],
      "source": [
        "def ResNet18(num_classes=10):\n",
        "    return ResNet(BasicBlock, [2,2,2,2], num_classes=num_classes)\n",
        "\n",
        "device = 'cuda' if torch.cuda.is_available() else 'cpu'\n",
        "model = ResNet34(num_classes=10).to(device)\n",
        "print(\"Parameter count:\", sum(p.numel() for p in model.parameters()))\n"
      ]
    },
    {
      "cell_type": "code",
      "execution_count": null,
      "metadata": {
        "colab": {
          "base_uri": "https://localhost:8080/",
          "height": 356
        },
        "id": "WbeTJjC3RIFu",
        "outputId": "a348f248-929c-4070-f956-f308dbdbd9b7"
      },
      "outputs": [
        {
          "ename": "RuntimeError",
          "evalue": "Input type (torch.cuda.FloatTensor) and weight type (torch.FloatTensor) should be the same",
          "output_type": "error",
          "traceback": [
            "\u001b[0;31m---------------------------------------------------------------------------\u001b[0m",
            "\u001b[0;31mRuntimeError\u001b[0m                              Traceback (most recent call last)",
            "\u001b[0;32m<ipython-input-35-79e3129b7654>\u001b[0m in \u001b[0;36m<cell line: 0>\u001b[0;34m()\u001b[0m\n\u001b[1;32m     49\u001b[0m \u001b[0mepochs\u001b[0m \u001b[0;34m=\u001b[0m \u001b[0;36m50\u001b[0m\u001b[0;34m\u001b[0m\u001b[0;34m\u001b[0m\u001b[0m\n\u001b[1;32m     50\u001b[0m \u001b[0;32mfor\u001b[0m \u001b[0mepoch\u001b[0m \u001b[0;32min\u001b[0m \u001b[0mrange\u001b[0m\u001b[0;34m(\u001b[0m\u001b[0mepochs\u001b[0m\u001b[0;34m)\u001b[0m\u001b[0;34m:\u001b[0m\u001b[0;34m\u001b[0m\u001b[0;34m\u001b[0m\u001b[0m\n\u001b[0;32m---> 51\u001b[0;31m     \u001b[0mtrain_loss\u001b[0m\u001b[0;34m,\u001b[0m \u001b[0mtrain_acc\u001b[0m \u001b[0;34m=\u001b[0m \u001b[0mtrain_one_epoch\u001b[0m\u001b[0;34m(\u001b[0m\u001b[0mmodel2\u001b[0m\u001b[0;34m,\u001b[0m \u001b[0mtrainloader\u001b[0m\u001b[0;34m,\u001b[0m \u001b[0moptimizer\u001b[0m\u001b[0;34m,\u001b[0m \u001b[0mcriterion\u001b[0m\u001b[0;34m,\u001b[0m \u001b[0mdevice\u001b[0m\u001b[0;34m)\u001b[0m\u001b[0;34m\u001b[0m\u001b[0;34m\u001b[0m\u001b[0m\n\u001b[0m\u001b[1;32m     52\u001b[0m     \u001b[0mtest_loss\u001b[0m\u001b[0;34m,\u001b[0m \u001b[0mtest_acc\u001b[0m   \u001b[0;34m=\u001b[0m \u001b[0mevaluate\u001b[0m\u001b[0;34m(\u001b[0m\u001b[0mmodel2\u001b[0m\u001b[0;34m,\u001b[0m \u001b[0mtestloader\u001b[0m\u001b[0;34m,\u001b[0m \u001b[0mcriterion\u001b[0m\u001b[0;34m,\u001b[0m \u001b[0mdevice\u001b[0m\u001b[0;34m)\u001b[0m\u001b[0;34m\u001b[0m\u001b[0;34m\u001b[0m\u001b[0m\n\u001b[1;32m     53\u001b[0m     \u001b[0mscheduler\u001b[0m\u001b[0;34m.\u001b[0m\u001b[0mstep\u001b[0m\u001b[0;34m(\u001b[0m\u001b[0;34m)\u001b[0m\u001b[0;34m\u001b[0m\u001b[0;34m\u001b[0m\u001b[0m\n",
            "\u001b[0;32m<ipython-input-35-79e3129b7654>\u001b[0m in \u001b[0;36mtrain_one_epoch\u001b[0;34m(model2, loader, optimizer, criterion, device)\u001b[0m\n\u001b[1;32m     14\u001b[0m         \u001b[0mimgs\u001b[0m\u001b[0;34m,\u001b[0m \u001b[0mlabels\u001b[0m \u001b[0;34m=\u001b[0m \u001b[0mimgs\u001b[0m\u001b[0;34m.\u001b[0m\u001b[0mto\u001b[0m\u001b[0;34m(\u001b[0m\u001b[0mdevice\u001b[0m\u001b[0;34m)\u001b[0m\u001b[0;34m,\u001b[0m \u001b[0mlabels\u001b[0m\u001b[0;34m.\u001b[0m\u001b[0mto\u001b[0m\u001b[0;34m(\u001b[0m\u001b[0mdevice\u001b[0m\u001b[0;34m)\u001b[0m\u001b[0;34m\u001b[0m\u001b[0;34m\u001b[0m\u001b[0m\n\u001b[1;32m     15\u001b[0m         \u001b[0moptimizer\u001b[0m\u001b[0;34m.\u001b[0m\u001b[0mzero_grad\u001b[0m\u001b[0;34m(\u001b[0m\u001b[0;34m)\u001b[0m\u001b[0;34m\u001b[0m\u001b[0;34m\u001b[0m\u001b[0m\n\u001b[0;32m---> 16\u001b[0;31m         \u001b[0moutputs\u001b[0m \u001b[0;34m=\u001b[0m \u001b[0mmodel2\u001b[0m\u001b[0;34m(\u001b[0m\u001b[0mimgs\u001b[0m\u001b[0;34m)\u001b[0m\u001b[0;34m\u001b[0m\u001b[0;34m\u001b[0m\u001b[0m\n\u001b[0m\u001b[1;32m     17\u001b[0m         \u001b[0mloss\u001b[0m \u001b[0;34m=\u001b[0m \u001b[0mcriterion\u001b[0m\u001b[0;34m(\u001b[0m\u001b[0moutputs\u001b[0m\u001b[0;34m,\u001b[0m \u001b[0mlabels\u001b[0m\u001b[0;34m)\u001b[0m\u001b[0;34m\u001b[0m\u001b[0;34m\u001b[0m\u001b[0m\n\u001b[1;32m     18\u001b[0m         \u001b[0mloss\u001b[0m\u001b[0;34m.\u001b[0m\u001b[0mbackward\u001b[0m\u001b[0;34m(\u001b[0m\u001b[0;34m)\u001b[0m\u001b[0;34m\u001b[0m\u001b[0;34m\u001b[0m\u001b[0m\n",
            "\u001b[0;32m/usr/local/lib/python3.11/dist-packages/torch/nn/modules/module.py\u001b[0m in \u001b[0;36m_wrapped_call_impl\u001b[0;34m(self, *args, **kwargs)\u001b[0m\n\u001b[1;32m   1734\u001b[0m             \u001b[0;32mreturn\u001b[0m \u001b[0mself\u001b[0m\u001b[0;34m.\u001b[0m\u001b[0m_compiled_call_impl\u001b[0m\u001b[0;34m(\u001b[0m\u001b[0;34m*\u001b[0m\u001b[0margs\u001b[0m\u001b[0;34m,\u001b[0m \u001b[0;34m**\u001b[0m\u001b[0mkwargs\u001b[0m\u001b[0;34m)\u001b[0m  \u001b[0;31m# type: ignore[misc]\u001b[0m\u001b[0;34m\u001b[0m\u001b[0;34m\u001b[0m\u001b[0m\n\u001b[1;32m   1735\u001b[0m         \u001b[0;32melse\u001b[0m\u001b[0;34m:\u001b[0m\u001b[0;34m\u001b[0m\u001b[0;34m\u001b[0m\u001b[0m\n\u001b[0;32m-> 1736\u001b[0;31m             \u001b[0;32mreturn\u001b[0m \u001b[0mself\u001b[0m\u001b[0;34m.\u001b[0m\u001b[0m_call_impl\u001b[0m\u001b[0;34m(\u001b[0m\u001b[0;34m*\u001b[0m\u001b[0margs\u001b[0m\u001b[0;34m,\u001b[0m \u001b[0;34m**\u001b[0m\u001b[0mkwargs\u001b[0m\u001b[0;34m)\u001b[0m\u001b[0;34m\u001b[0m\u001b[0;34m\u001b[0m\u001b[0m\n\u001b[0m\u001b[1;32m   1737\u001b[0m \u001b[0;34m\u001b[0m\u001b[0m\n\u001b[1;32m   1738\u001b[0m     \u001b[0;31m# torchrec tests the code consistency with the following code\u001b[0m\u001b[0;34m\u001b[0m\u001b[0;34m\u001b[0m\u001b[0m\n",
            "\u001b[0;32m/usr/local/lib/python3.11/dist-packages/torch/nn/modules/module.py\u001b[0m in \u001b[0;36m_call_impl\u001b[0;34m(self, *args, **kwargs)\u001b[0m\n\u001b[1;32m   1745\u001b[0m                 \u001b[0;32mor\u001b[0m \u001b[0m_global_backward_pre_hooks\u001b[0m \u001b[0;32mor\u001b[0m \u001b[0m_global_backward_hooks\u001b[0m\u001b[0;34m\u001b[0m\u001b[0;34m\u001b[0m\u001b[0m\n\u001b[1;32m   1746\u001b[0m                 or _global_forward_hooks or _global_forward_pre_hooks):\n\u001b[0;32m-> 1747\u001b[0;31m             \u001b[0;32mreturn\u001b[0m \u001b[0mforward_call\u001b[0m\u001b[0;34m(\u001b[0m\u001b[0;34m*\u001b[0m\u001b[0margs\u001b[0m\u001b[0;34m,\u001b[0m \u001b[0;34m**\u001b[0m\u001b[0mkwargs\u001b[0m\u001b[0;34m)\u001b[0m\u001b[0;34m\u001b[0m\u001b[0;34m\u001b[0m\u001b[0m\n\u001b[0m\u001b[1;32m   1748\u001b[0m \u001b[0;34m\u001b[0m\u001b[0m\n\u001b[1;32m   1749\u001b[0m         \u001b[0mresult\u001b[0m \u001b[0;34m=\u001b[0m \u001b[0;32mNone\u001b[0m\u001b[0;34m\u001b[0m\u001b[0;34m\u001b[0m\u001b[0m\n",
            "\u001b[0;32m<ipython-input-31-8b0ccf77c47b>\u001b[0m in \u001b[0;36mforward\u001b[0;34m(self, x)\u001b[0m\n\u001b[1;32m     63\u001b[0m \u001b[0;34m\u001b[0m\u001b[0m\n\u001b[1;32m     64\u001b[0m     \u001b[0;32mdef\u001b[0m \u001b[0mforward\u001b[0m\u001b[0;34m(\u001b[0m\u001b[0mself\u001b[0m\u001b[0;34m,\u001b[0m \u001b[0mx\u001b[0m\u001b[0;34m)\u001b[0m\u001b[0;34m:\u001b[0m\u001b[0;34m\u001b[0m\u001b[0;34m\u001b[0m\u001b[0m\n\u001b[0;32m---> 65\u001b[0;31m         \u001b[0mout\u001b[0m \u001b[0;34m=\u001b[0m \u001b[0mF\u001b[0m\u001b[0;34m.\u001b[0m\u001b[0mrelu\u001b[0m\u001b[0;34m(\u001b[0m\u001b[0mself\u001b[0m\u001b[0;34m.\u001b[0m\u001b[0mbn1\u001b[0m\u001b[0;34m(\u001b[0m\u001b[0mself\u001b[0m\u001b[0;34m.\u001b[0m\u001b[0mconv1\u001b[0m\u001b[0;34m(\u001b[0m\u001b[0mx\u001b[0m\u001b[0;34m)\u001b[0m\u001b[0;34m)\u001b[0m\u001b[0;34m)\u001b[0m\u001b[0;34m\u001b[0m\u001b[0;34m\u001b[0m\u001b[0m\n\u001b[0m\u001b[1;32m     66\u001b[0m         \u001b[0mout\u001b[0m \u001b[0;34m=\u001b[0m \u001b[0mself\u001b[0m\u001b[0;34m.\u001b[0m\u001b[0mlayer1\u001b[0m\u001b[0;34m(\u001b[0m\u001b[0mout\u001b[0m\u001b[0;34m)\u001b[0m\u001b[0;34m\u001b[0m\u001b[0;34m\u001b[0m\u001b[0m\n\u001b[1;32m     67\u001b[0m         \u001b[0mout\u001b[0m \u001b[0;34m=\u001b[0m \u001b[0mself\u001b[0m\u001b[0;34m.\u001b[0m\u001b[0mlayer2\u001b[0m\u001b[0;34m(\u001b[0m\u001b[0mout\u001b[0m\u001b[0;34m)\u001b[0m\u001b[0;34m\u001b[0m\u001b[0;34m\u001b[0m\u001b[0m\n",
            "\u001b[0;32m/usr/local/lib/python3.11/dist-packages/torch/nn/modules/module.py\u001b[0m in \u001b[0;36m_wrapped_call_impl\u001b[0;34m(self, *args, **kwargs)\u001b[0m\n\u001b[1;32m   1734\u001b[0m             \u001b[0;32mreturn\u001b[0m \u001b[0mself\u001b[0m\u001b[0;34m.\u001b[0m\u001b[0m_compiled_call_impl\u001b[0m\u001b[0;34m(\u001b[0m\u001b[0;34m*\u001b[0m\u001b[0margs\u001b[0m\u001b[0;34m,\u001b[0m \u001b[0;34m**\u001b[0m\u001b[0mkwargs\u001b[0m\u001b[0;34m)\u001b[0m  \u001b[0;31m# type: ignore[misc]\u001b[0m\u001b[0;34m\u001b[0m\u001b[0;34m\u001b[0m\u001b[0m\n\u001b[1;32m   1735\u001b[0m         \u001b[0;32melse\u001b[0m\u001b[0;34m:\u001b[0m\u001b[0;34m\u001b[0m\u001b[0;34m\u001b[0m\u001b[0m\n\u001b[0;32m-> 1736\u001b[0;31m             \u001b[0;32mreturn\u001b[0m \u001b[0mself\u001b[0m\u001b[0;34m.\u001b[0m\u001b[0m_call_impl\u001b[0m\u001b[0;34m(\u001b[0m\u001b[0;34m*\u001b[0m\u001b[0margs\u001b[0m\u001b[0;34m,\u001b[0m \u001b[0;34m**\u001b[0m\u001b[0mkwargs\u001b[0m\u001b[0;34m)\u001b[0m\u001b[0;34m\u001b[0m\u001b[0;34m\u001b[0m\u001b[0m\n\u001b[0m\u001b[1;32m   1737\u001b[0m \u001b[0;34m\u001b[0m\u001b[0m\n\u001b[1;32m   1738\u001b[0m     \u001b[0;31m# torchrec tests the code consistency with the following code\u001b[0m\u001b[0;34m\u001b[0m\u001b[0;34m\u001b[0m\u001b[0m\n",
            "\u001b[0;32m/usr/local/lib/python3.11/dist-packages/torch/nn/modules/module.py\u001b[0m in \u001b[0;36m_call_impl\u001b[0;34m(self, *args, **kwargs)\u001b[0m\n\u001b[1;32m   1745\u001b[0m                 \u001b[0;32mor\u001b[0m \u001b[0m_global_backward_pre_hooks\u001b[0m \u001b[0;32mor\u001b[0m \u001b[0m_global_backward_hooks\u001b[0m\u001b[0;34m\u001b[0m\u001b[0;34m\u001b[0m\u001b[0m\n\u001b[1;32m   1746\u001b[0m                 or _global_forward_hooks or _global_forward_pre_hooks):\n\u001b[0;32m-> 1747\u001b[0;31m             \u001b[0;32mreturn\u001b[0m \u001b[0mforward_call\u001b[0m\u001b[0;34m(\u001b[0m\u001b[0;34m*\u001b[0m\u001b[0margs\u001b[0m\u001b[0;34m,\u001b[0m \u001b[0;34m**\u001b[0m\u001b[0mkwargs\u001b[0m\u001b[0;34m)\u001b[0m\u001b[0;34m\u001b[0m\u001b[0;34m\u001b[0m\u001b[0m\n\u001b[0m\u001b[1;32m   1748\u001b[0m \u001b[0;34m\u001b[0m\u001b[0m\n\u001b[1;32m   1749\u001b[0m         \u001b[0mresult\u001b[0m \u001b[0;34m=\u001b[0m \u001b[0;32mNone\u001b[0m\u001b[0;34m\u001b[0m\u001b[0;34m\u001b[0m\u001b[0m\n",
            "\u001b[0;32m/usr/local/lib/python3.11/dist-packages/torch/nn/modules/conv.py\u001b[0m in \u001b[0;36mforward\u001b[0;34m(self, input)\u001b[0m\n\u001b[1;32m    552\u001b[0m \u001b[0;34m\u001b[0m\u001b[0m\n\u001b[1;32m    553\u001b[0m     \u001b[0;32mdef\u001b[0m \u001b[0mforward\u001b[0m\u001b[0;34m(\u001b[0m\u001b[0mself\u001b[0m\u001b[0;34m,\u001b[0m \u001b[0minput\u001b[0m\u001b[0;34m:\u001b[0m \u001b[0mTensor\u001b[0m\u001b[0;34m)\u001b[0m \u001b[0;34m->\u001b[0m \u001b[0mTensor\u001b[0m\u001b[0;34m:\u001b[0m\u001b[0;34m\u001b[0m\u001b[0;34m\u001b[0m\u001b[0m\n\u001b[0;32m--> 554\u001b[0;31m         \u001b[0;32mreturn\u001b[0m \u001b[0mself\u001b[0m\u001b[0;34m.\u001b[0m\u001b[0m_conv_forward\u001b[0m\u001b[0;34m(\u001b[0m\u001b[0minput\u001b[0m\u001b[0;34m,\u001b[0m \u001b[0mself\u001b[0m\u001b[0;34m.\u001b[0m\u001b[0mweight\u001b[0m\u001b[0;34m,\u001b[0m \u001b[0mself\u001b[0m\u001b[0;34m.\u001b[0m\u001b[0mbias\u001b[0m\u001b[0;34m)\u001b[0m\u001b[0;34m\u001b[0m\u001b[0;34m\u001b[0m\u001b[0m\n\u001b[0m\u001b[1;32m    555\u001b[0m \u001b[0;34m\u001b[0m\u001b[0m\n\u001b[1;32m    556\u001b[0m \u001b[0;34m\u001b[0m\u001b[0m\n",
            "\u001b[0;32m/usr/local/lib/python3.11/dist-packages/torch/nn/modules/conv.py\u001b[0m in \u001b[0;36m_conv_forward\u001b[0;34m(self, input, weight, bias)\u001b[0m\n\u001b[1;32m    547\u001b[0m                 \u001b[0mself\u001b[0m\u001b[0;34m.\u001b[0m\u001b[0mgroups\u001b[0m\u001b[0;34m,\u001b[0m\u001b[0;34m\u001b[0m\u001b[0;34m\u001b[0m\u001b[0m\n\u001b[1;32m    548\u001b[0m             )\n\u001b[0;32m--> 549\u001b[0;31m         return F.conv2d(\n\u001b[0m\u001b[1;32m    550\u001b[0m             \u001b[0minput\u001b[0m\u001b[0;34m,\u001b[0m \u001b[0mweight\u001b[0m\u001b[0;34m,\u001b[0m \u001b[0mbias\u001b[0m\u001b[0;34m,\u001b[0m \u001b[0mself\u001b[0m\u001b[0;34m.\u001b[0m\u001b[0mstride\u001b[0m\u001b[0;34m,\u001b[0m \u001b[0mself\u001b[0m\u001b[0;34m.\u001b[0m\u001b[0mpadding\u001b[0m\u001b[0;34m,\u001b[0m \u001b[0mself\u001b[0m\u001b[0;34m.\u001b[0m\u001b[0mdilation\u001b[0m\u001b[0;34m,\u001b[0m \u001b[0mself\u001b[0m\u001b[0;34m.\u001b[0m\u001b[0mgroups\u001b[0m\u001b[0;34m\u001b[0m\u001b[0;34m\u001b[0m\u001b[0m\n\u001b[1;32m    551\u001b[0m         )\n",
            "\u001b[0;31mRuntimeError\u001b[0m: Input type (torch.cuda.FloatTensor) and weight type (torch.FloatTensor) should be the same"
          ]
        }
      ],
      "source": [
        "# DOES NOT WORK yet since i changed model => model2\n",
        "import torch.optim as optim\n",
        "import torch.nn.functional as F\n",
        "\n",
        "criterion = nn.CrossEntropyLoss()\n",
        "optimizer = optim.SGD(model2.parameters(), lr=0.1, momentum=0.9, weight_decay=5e-4)\n",
        "\n",
        "# StepLR after 25 epochs ( scheduler LR can be modified)\n",
        "scheduler = optim.lr_scheduler.StepLR(optimizer, step_size=25, gamma=0.1)\n",
        "\n",
        "def train_one_epoch(model2, loader, optimizer, criterion, device):\n",
        "    model2.train()\n",
        "    running_loss, correct, total = 0.0, 0, 0\n",
        "    for imgs, labels in loader:\n",
        "        imgs, labels = imgs.to(device), labels.to(device)\n",
        "        optimizer.zero_grad()\n",
        "        outputs = model2(imgs)\n",
        "        loss = criterion(outputs, labels)\n",
        "        loss.backward()\n",
        "        optimizer.step()\n",
        "\n",
        "        running_loss += loss.item() * imgs.size(0)\n",
        "        _, predicted = outputs.max(1)\n",
        "        correct += predicted.eq(labels).sum().item()\n",
        "        total += labels.size(0)\n",
        "\n",
        "    epoch_loss = running_loss / total\n",
        "    epoch_acc = 100. * correct / total\n",
        "    return epoch_loss, epoch_acc\n",
        "\n",
        "def evaluate(model2, loader, criterion, device):\n",
        "    model2.eval()\n",
        "    running_loss, correct, total = 0.0, 0, 0\n",
        "    with torch.no_grad():\n",
        "        for imgs, labels in loader:\n",
        "            imgs, labels = imgs.to(device), labels.to(device)\n",
        "            outputs = model2(imgs)\n",
        "            loss = criterion(outputs, labels)\n",
        "\n",
        "            running_loss += loss.item() * imgs.size(0)\n",
        "            _, predicted = outputs.max(1)\n",
        "            correct += predicted.eq(labels).sum().item()\n",
        "            total += labels.size(0)\n",
        "\n",
        "    epoch_loss = running_loss / total\n",
        "    epoch_acc = 100. * correct / total\n",
        "    return epoch_loss, epoch_acc\n",
        "\n",
        "# Full training\n",
        "epochs = 50\n",
        "for epoch in range(epochs):\n",
        "    train_loss, train_acc = train_one_epoch(model2, trainloader, optimizer, criterion, device)\n",
        "    test_loss, test_acc   = evaluate(model2, testloader, criterion, device)\n",
        "    scheduler.step()\n",
        "\n",
        "    print(f\"Epoch [{epoch+1}/{epochs}] \"\n",
        "          f\"Train Loss: {train_loss:.3f} | Train Acc: {train_acc:.2f}% | \"\n",
        "          f\"Test Loss: {test_loss:.3f} | Test Acc: {test_acc:.2f}%\")"
      ]
    }
  ],
  "metadata": {
    "accelerator": "GPU",
    "colab": {
      "gpuType": "A100",
      "provenance": []
    },
    "kernelspec": {
      "display_name": "pytorch-mps",
      "language": "python",
      "name": "python3"
    },
    "language_info": {
      "codemirror_mode": {
        "name": "ipython",
        "version": 3
      },
      "file_extension": ".py",
      "mimetype": "text/x-python",
      "name": "python",
      "nbconvert_exporter": "python",
      "pygments_lexer": "ipython3",
      "version": "3.9.20"
    }
  },
  "nbformat": 4,
  "nbformat_minor": 0
}
